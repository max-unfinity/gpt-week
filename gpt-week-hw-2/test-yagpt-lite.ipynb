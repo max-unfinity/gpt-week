{
 "cells": [
  {
   "cell_type": "code",
   "execution_count": 1,
   "metadata": {},
   "outputs": [],
   "source": [
    "import json\n",
    "from model_api import eval_metric_model, yagpt_lite\n",
    "from post_process import post_process_yagpt_lite\n",
    "from tqdm import tqdm\n",
    "import numpy as np\n",
    "import time\n",
    "import os\n",
    "import utils\n",
    "\n",
    "iam_token = 't1.9euelZqakMiMycmQyonJzI-em86eju3rnpWaz42dm4uLzouOlsfMypLLyZfl8_cgLBlU-e9zKWtL_d3z92BaFlT573Mpa0v9zef1656VmsmOy8mYkYrHyJ6cz4mNzo2b7_zF656VmsmOy8mYkYrHyJ6cz4mNzo2b.I8He5SiXbq_ytxMcxdhNBDIWxHdmpZemBhQO9AvODnZnVv13omJYSSywiy9PqivGmBvtRTP3-p2nnuWoi2fIAQ'"
   ]
  },
  {
   "cell_type": "code",
   "execution_count": 2,
   "metadata": {},
   "outputs": [],
   "source": [
    "with open('test_articles_clear_100.json', 'r') as fin:\n",
    "    test_articles = [json.loads(s) for s in fin.readlines()]"
   ]
  },
  {
   "cell_type": "markdown",
   "metadata": {},
   "source": [
    "## YaGPT Lite"
   ]
  },
  {
   "cell_type": "code",
   "execution_count": 3,
   "metadata": {},
   "outputs": [],
   "source": [
    "model_name = 'yagpt_lite'\n",
    "output_file = f'test_results_{model_name}.json'\n",
    "skip = 0\n",
    "n_generations = 1\n",
    "sleep_time = 5\n",
    "\n",
    "def generation_fn(article):\n",
    "    summary = yagpt_lite(article, iam_token, temperature=0.1)\n",
    "    return summary\n",
    "\n",
    "\n",
    "results = []"
   ]
  },
  {
   "cell_type": "code",
   "execution_count": 4,
   "metadata": {},
   "outputs": [
    {
     "name": "stdout",
     "output_type": "stream",
     "text": [
      "Skip=0\n",
      "Total data samples=100\n",
      "Writing results to test_results_yagpt_lite.json, file_exists=True\n"
     ]
    },
    {
     "name": "stderr",
     "output_type": "stream",
     "text": [
      " 47%|████▋     | 47/100 [07:56<09:05, 10.29s/it]"
     ]
    },
    {
     "name": "stdout",
     "output_type": "stream",
     "text": [
      "Error: 429, {\"error\":{\"grpcCode\":8,\"httpCode\":429,\"message\":\"ai.textGenerationCompletionSessionsCount.count gauge quota limit exceed: allowed 3 requests\",\"httpStatus\":\"Too Many Requests\",\"details\":[]}}\n"
     ]
    },
    {
     "name": "stderr",
     "output_type": "stream",
     "text": [
      " 48%|████▊     | 48/100 [09:07<24:40, 28.48s/it]"
     ]
    },
    {
     "name": "stdout",
     "output_type": "stream",
     "text": [
      "Error: 429, {\"error\":{\"grpcCode\":8,\"httpCode\":429,\"message\":\"ai.textGenerationCompletionSessionsCount.count gauge quota limit exceed: allowed 3 requests\",\"httpStatus\":\"Too Many Requests\",\"details\":[]}}\n"
     ]
    },
    {
     "name": "stderr",
     "output_type": "stream",
     "text": [
      " 71%|███████   | 71/100 [13:56<05:15, 10.88s/it]"
     ]
    },
    {
     "name": "stdout",
     "output_type": "stream",
     "text": [
      "Error: 400, {\"error\":{\"grpcCode\":3,\"httpCode\":400,\"message\":\"An answer to a given topic cannot be generated\",\"httpStatus\":\"Bad Request\",\"details\":[]}}\n"
     ]
    },
    {
     "name": "stderr",
     "output_type": "stream",
     "text": [
      "100%|██████████| 100/100 [20:01<00:00, 12.01s/it]\n"
     ]
    }
   ],
   "source": [
    "skip = len(results)\n",
    "print(f\"Skip={skip}\")\n",
    "print(f\"Total data samples={len(test_articles)}\")\n",
    "print(f\"Writing results to {output_file}, file_exists={os.path.isfile(output_file)}\")\n",
    "\n",
    "assert n_generations == 1, \"n_generations > 1 is not supported yet\"\n",
    "\n",
    "with open(output_file, 'a') as f:\n",
    "    for idx, sample in enumerate(tqdm(test_articles, position=0)):\n",
    "        if idx < skip:\n",
    "            print(f\"Skip {idx}\")\n",
    "            continue\n",
    "        \n",
    "        # make N generations to statistically estimate the quality\n",
    "        eval_scores = []\n",
    "        eval_scores_dash = []\n",
    "        summaries = []\n",
    "        for _ in range(n_generations):\n",
    "            article = sample['Text']\n",
    "\n",
    "            try:\n",
    "                summary = generation_fn(article)\n",
    "                summary_cleaned = post_process_yagpt_lite(summary, add_dash=False)\n",
    "                summary_cleaned_dash = post_process_yagpt_lite(summary, add_dash=True)\n",
    "\n",
    "                eval_score = eval_metric_model(article, summary_cleaned)\n",
    "                eval_score_dash = eval_metric_model(article, summary_cleaned_dash)\n",
    "            except AssertionError as e:\n",
    "                print(e)\n",
    "                time.sleep(60)\n",
    "\n",
    "                summary = generation_fn(article)\n",
    "                summary_cleaned = post_process_yagpt_lite(summary, add_dash=False)\n",
    "                summary_cleaned_dash = post_process_yagpt_lite(summary, add_dash=True)\n",
    "\n",
    "                eval_score = eval_metric_model(article, summary_cleaned)\n",
    "                eval_score_dash = eval_metric_model(article, summary_cleaned_dash)\n",
    "\n",
    "            eval_scores.append(eval_score)\n",
    "            eval_scores_dash.append(eval_score_dash)\n",
    "            summaries.append(summary)\n",
    "            time.sleep(sleep_time)\n",
    "\n",
    "        result = {\n",
    "            'idx': idx,\n",
    "            'id': sample.get('id', None),\n",
    "            'eval_scores': eval_scores,\n",
    "            'eval_scores_dash': eval_scores_dash,\n",
    "            'summaries': summaries,\n",
    "            'summaries_cleaned': [summary_cleaned],\n",
    "            'summaries_cleaned_dash': [summary_cleaned_dash],\n",
    "        }\n",
    "\n",
    "        f.write(json.dumps(result, ensure_ascii=False) + '\\n')\n",
    "        f.flush()\n",
    "\n",
    "        results.append(result)\n",
    "\n",
    "        # print(f\"Eval score stats: {idx=}, {mean=}, {std=}\")"
   ]
  },
  {
   "cell_type": "code",
   "execution_count": null,
   "metadata": {},
   "outputs": [],
   "source": [
    "# results = utils.load_jsonl(output_file)"
   ]
  },
  {
   "cell_type": "code",
   "execution_count": 6,
   "metadata": {},
   "outputs": [],
   "source": [
    "# remove extra spaces in summary_cleaned using regex\n",
    "import re\n",
    "for idx, result in enumerate(results):\n",
    "    summary_cleaned = result['summaries_cleaned'][0]\n",
    "    summary_cleaned = re.sub(r'\\s+', ' ', summary_cleaned)\n",
    "    id = result['id']\n",
    "    article = test_articles[idx]['Text']\n",
    "    assert id == test_articles[idx]['id'], f\"{id=}, {test_articles[idx]['id']=}\"\n",
    "    \n",
    "    # eval\n",
    "    eval_score_2 = eval_metric_model(article, summary_cleaned)\n",
    "    result['summaries_cleaned_2'] = [summary_cleaned]\n",
    "    result['eval_scores_2'] = [eval_score_2]\n"
   ]
  },
  {
   "cell_type": "code",
   "execution_count": 9,
   "metadata": {},
   "outputs": [
    {
     "name": "stdout",
     "output_type": "stream",
     "text": [
      "Mean score=0.54217836\n",
      "Mean score dash=0.5330401600000001\n",
      "Mean score 2=0.54197143\n"
     ]
    }
   ],
   "source": [
    "scores = [r['eval_scores'][0] for r in results]\n",
    "scores_dash = [r['eval_scores_dash'][0] for r in results]\n",
    "scores_2 = [r['eval_scores_2'][0] for r in results]\n",
    "print(f\"Mean score={np.mean(scores)}\")\n",
    "print(f\"Mean score dash={np.mean(scores_dash)}\")\n",
    "print(f\"Mean score 2={np.mean(scores_2)}\")"
   ]
  },
  {
   "cell_type": "code",
   "execution_count": 23,
   "metadata": {},
   "outputs": [
    {
     "name": "stdout",
     "output_type": "stream",
     "text": [
      "Mean score=0.54217836\n",
      "Mean score dash=0.5330401600000001\n",
      "Mean score 2=0.54537477\n"
     ]
    }
   ],
   "source": [
    "scores = [r['eval_scores'][0] for r in results]\n",
    "scores_dash = [r['eval_scores_dash'][0] for r in results]\n",
    "scores_2 = [r['eval_scores_2'][0] for r in results]\n",
    "print(f\"Mean score={np.mean(scores)}\")\n",
    "print(f\"Mean score dash={np.mean(scores_dash)}\")\n",
    "print(f\"Mean score 2={np.mean(scores_2)}\")"
   ]
  },
  {
   "cell_type": "code",
   "execution_count": 10,
   "metadata": {},
   "outputs": [],
   "source": [
    "# save results\n",
    "def dump_jsonl(data, file_path):\n",
    "    with open(file_path, 'w') as fout:\n",
    "        for line in data:\n",
    "            fout.write(json.dumps(line, ensure_ascii=False) + '\\n')\n",
    "# add _2 to the file name\n",
    "output_file_2 = output_file.replace('.json', '_2.json')\n",
    "dump_jsonl(results, output_file_2)"
   ]
  },
  {
   "cell_type": "code",
   "execution_count": 24,
   "metadata": {},
   "outputs": [
    {
     "data": {
      "image/png": "[encoded data removed]",
      "text/plain": [
       "<Figure size 640x480 with 1 Axes>"
      ]
     },
     "metadata": {},
     "output_type": "display_data"
    }
   ],
   "source": [
    "from matplotlib import pyplot as plt\n",
    "plt.hist(scores, bins=20, alpha=0.33);\n",
    "# plt.hist(scores_dash, bins=20, alpha=0.33);\n",
    "plt.hist(scores_2, bins=20, alpha=0.33);"
   ]
  },
  {
   "cell_type": "code",
   "execution_count": 25,
   "metadata": {},
   "outputs": [
    {
     "name": "stdout",
     "output_type": "stream",
     "text": [
      "Median score=0.55542\n",
      "Median score dash=0.543701\n",
      "Median score 2=0.5559084999999999\n"
     ]
    }
   ],
   "source": [
    "# calculate median\n",
    "print(f\"Median score={np.median(scores)}\")\n",
    "print(f\"Median score dash={np.median(scores_dash)}\")\n",
    "print(f\"Median score 2={np.median(scores_2)}\")"
   ]
  },
  {
   "cell_type": "code",
   "execution_count": 21,
   "metadata": {},
   "outputs": [
    {
     "name": "stdout",
     "output_type": "stream",
     "text": [
      "3\n",
      "[0.288818] [0.280518] [0.288818]\n",
      "['Стабилизатор \"Штиль Инстаб 500\" разработан специально для проекта Lamptest.ru и выдает стабильное переменное напряжение 230 В с точностью ±0.6 В. Стабилизаторы сетевого напряжения используются для улучшения качества сетевого напряжения и предотвращения его понижения или повышения. Стабилизаторы \"Штиль Инстаб 500\" работают по принципу двойного преобразования: сначала сетевое напряжение выпрямляется, а потом преобразуется в синусоидальное переменное напряжение. Стабилизатор имеет КПД 96%, коэффициент нелинейных искажений 1.5% и является \"улучшителем\" коэффициента мощности. Стабилизатор был протестирован с помощью ЛАТРа, который позволяет плавно менять напряжение в широких пределах. При любых изменениях входного напряжения стабилизатор выдает стабильное выходное напряжение, независимо от входного напряжения. Стабилизатор имеет защиту от перегрузки и отключается при выходе входного напряжения за пределы стабилизации. Стабилизатор издает тихий зудящий звук, который почти не слышен на расстоянии метра от корпуса. Стабилизаторы \"Штиль Инстаб 500\" доступны в вариантах с выходным напряжением 220 и 230 В и мощностью 500, 1000']\n",
      "10\n",
      "[0.116577] [0.115784] [0.121399]\n",
      "['Разработка монолитной Unix-подобной операционной системы требует глубокого понимания принципов работы с памятью, устройствами ввода-вывода, прерываниями и другими низкоуровневыми аспектами. Для разработки ядра операционной системы необходимо использовать ассемблер и библиотеки на языке C. Для отладки ядра можно использовать функции kpanic, kassert и kunreachable, которые позволяют выводить сообщения на экран и отслеживать ошибки. Для вывода отладочной информации на экран можно использовать функции kprintf и kvprintf, которые позволяют форматировать и выводить данные на экран. Для управления выводом на экран используется функция video_flush, которая копирует буфер в видеопамять и добавляет атрибуты цвета. Для прокрутки экрана и управления буфером можно использовать функции video_scroll и video_clear. Для работы с портами ввода-вывода используются функции asm_read_port и asm_write_port. Для управления прерываниями используются функции asm_lock и asm_unlock. Для остановки процессора при неисправимых ошибках используется функция asm_hlt. Для работы с видеопамятью используется функция video_init. Для работы с буферами и атрибутами цвета используются функции video_clear, video_scroll, video_flush и video_vprintf. Для управления режимом ядра и пользовательским режимом используется функция kmode. Для чтения системного журнала используется функция klog. Для отладки ядра можно использовать функции kpanic, kassert и kunreachable. Для работы с файлами и системными вызовами можно использовать функции fopen, fclose, fprintf и другие. Для организации многозадачности и планирования процессов можно использовать функции kill, exit, ps и другие. Для работы с файловой системой ядра можно использовать функции exec и другие. Для работы с драйверами символьных устройств можно использовать функции ioctl, fopen, fread, fwrite и другие. Для работы с оболочкой как полноценной программой для ядра можно использовать функции user_mode_protect и другие. Для работы с сегментом состояния задачи можно использовать функции tss и другие. Для организации виртуальной памяти можно использовать функции каталог страниц и таблица страниц. Для работы с исключениями можно использовать функции исключения. Для работы с планировщиком можно использовать функции планировщик. Для работы с пользовательским режимом защиты можно использовать функции пользовательский режим защиты. Для работы с динамической памятью можно использовать функции куча и другие. Для работы с отладочными сообщениями можно использовать функции klog и другие. Для работы с атрибутами цвета можно использовать функции атрибуты цвета. Для работы с буферами можно использовать функции буферы. Для работы с видеопамятью можно использовать функции видеопамять. Для работы с портами ввода-вывода можно использовать функции порты ввода-вывода. Для работы с прерываниями можно использовать функции прерывания. Для работы с устройствами можно использовать функции устройства. Для работы с памятью можно использовать функции память. Для работы с ядром можно использовать функции ядро. Для работы с отладкой можно использовать функции отладка. Для работы с функциями можно использовать функции. Для работы с библиотеками можно использовать функции библиотеки. Для работы с консолью можно использовать функции консоль. Для работы с экранами можно использовать функции экраны. Для работы с буферами можно использовать функции буферы. Для работы с атрибутами можно использовать функции атрибуты. Для работы с видео можно использовать функции видео. Для работы с памятью можно использовать функции память. Для работы с устройствами можно использовать функции устройства. Для работы с прерываниями можно использовать функции прерывания. Для работы с ядром можно использовать функции ядро. Для работы с отладкой можно использовать функции отладка. Для работы с функциями можно использовать функции. Для работы с библиотеками можно использовать функции библиотеки. Для работы с консолью можно использовать функции консоль. Для работы с экранами можно использовать функции экраны. Для работы с буферами можно использовать функции буферы. Для работы с атрибутами можно использовать функции атрибуты. Для работы с видео можно использовать функции видео. Для работы с памятью можно использовать функции память. Для работы с устройствами можно использовать функции устройства. Для работы с прерываниями можно использовать функции прерывания. Для работы с ядром можно использовать функции ядро. Для работы с отладкой можно использовать функции отладка. Для работы с функциями можно использовать функции. Для работы с библиотеками можно использовать функции библиотеки. Для работы с консолью можно использовать функции консоль. Для работы с экранами можно использовать функции экраны. Для работы с буферами можно использовать функции буферы. Для работы с атрибутами можно использовать функции атрибуты. Для работы с видео можно использовать функции видео. Для работы с памятью можно использовать функции память. Для работы с устройствами можно использовать функции устройства. Для работы с прерываниями можно использовать функции прерывания. Для работы с ядром можно использовать функции ядро. Для работы с отладкой можно использовать функции отладка. Для работы с функциями можно использовать функции. Для работы с библиотеками можно использовать функции библиотеки. Для работы с консолью можно использовать функции консоль. Для работы с экранами можно использовать функции экраны. Для работы с буферами можно использовать функции буферы. Для работы с атрибутами можно использовать функции атрибуты. Для работы с видео можно использовать функции видео. Для работы с памятью можно использовать функции память. Для работы с устройствами можно использовать функции устройства. Для работы с прерываниями можно использовать функции прерывания. Для работы с ядром можно использовать функции ядро. Для работы с отладкой можно использовать функции отладка. Для работы с функциями можно использовать функции. Для работы с библиотеками можно использовать функции библиотеки. Для работы с консолью можно использовать функции консоль. Для работы с экранами можно использовать функции экраны. Для работы с буферами можно использовать функции буферы. Для работы с атрибутами можно использовать функции атрибуты. Для работы с видео можно использовать функции видео. Для работы с памятью можно использовать функции память. Для работы с устройствами можно использовать функции устройства. Для работы с прерываниями можно использовать функции прерывания. Для работы с ядром можно использовать функции ядро. Для работы с отладкой можно использовать функции отладка. Для работы с функциями можно использовать функции. Для работы с библиотеками можно использовать функции библиотеки. Для работы с консолью можно использовать функции консоль. Для работы с экранами можно использовать функции экраны. Для работы с буферами можно использовать функции буферы. Для работы с атрибутами можно использовать функции атрибуты. Для работы с видео можно использовать функции видео. Для работы с памятью можно использовать функции память. Для работы с устройствами можно использовать функции устройства. Для работы с прерываниями можно использовать функции прерывания. Для работы с ядром можно использовать функции ядро. Для работы с отладкой можно использовать функции отладка. Для работы с функциями можно использовать функции. Для работы с библиотеками можно использовать функции библиотеки. Для работы с консолью можно использовать функции консоль. 111']\n",
      "43\n",
      "[0.293701] [0.293701] [0.291748]\n",
      "['Автор использует компьютер для различных целей и понимает, что интерфейс программ может быть разным, но эффект будет одинаковым. Автор разрабатывает свои идеи интерфейса на основе чувства красоты и удобства. Автор предоставляет первоначальную информацию пользователю в виде текста и списка недавно открытых/редактированных словарей. Автор загружает текстовые файлы в SQLite базу данных для работы с большими файлами. Автор упрощает управление загруженными словарями и предоставляет подробное описание возможностей кнопок. Автор использует однооконный интерфейс для настроек программы и предоставляет подробное описание каждой опции. Автор рассчитывает на использование горячих клавиш для удобства пользователя. Автор использует \"подсказки и статус-строку\" для информирования пользователя о функциях программы. Автор предоставляет возможность отключения подсказок в настройках. Автор предоставляет ссылки на программу и инструкции по компиляции и установке.']\n",
      "49\n",
      "[0.289307] [0.278809] [0.26709]\n",
      "['Волонтеры решили сделать инженерный бизиборд для московского психоневралогического интерната (ПНИ), чтобы помочь детям получить сенсорные впечатления. Они использовали разнообразные материалы, такие как пластик, никелированная сталь, чугун, медь, гофрированная нержавеющая сталь и отрезной диск. Бизиборд был сделан из листа фанеры 1500x1000']\n"
     ]
    }
   ],
   "source": [
    "# get first item with mean score < 0.3\n",
    "for r in results:\n",
    "    if np.mean(r['eval_scores_2']) < 0.3:\n",
    "        print(r['idx'])\n",
    "        print(r['eval_scores_2'], r['eval_scores'], r['eval_scores_dash'])\n",
    "        print(r['summaries_cleaned_2'])"
   ]
  },
  {
   "cell_type": "code",
   "execution_count": 22,
   "metadata": {},
   "outputs": [],
   "source": [
    "def remove_prompt(summary):\n",
    "    summary_cleaned = summary\n",
    "    summary_cleaned = summary_cleaned.replace('Основные мысли статьи:\\n\\n', '').strip()\n",
    "    summary_cleaned = summary_cleaned.replace('Основные мысли статьи:', '').strip()\n",
    "    summary_cleaned = summary_cleaned.replace('Основные мысли из статьи:', '').strip()\n",
    "    is_prompt = summary_cleaned != summary\n",
    "    return summary_cleaned, is_prompt\n",
    "\n",
    "# remove prompt in every summary\n",
    "for idx, r in enumerate(results):\n",
    "    summary = r['summaries_cleaned_2'][0]\n",
    "    summary_cleaned, is_prompt = remove_prompt(summary)\n",
    "    if is_prompt:\n",
    "        id = r['id']\n",
    "        article = test_articles[idx]['Text']\n",
    "        assert id == test_articles[idx]['id'], f\"{id=}, {test_articles[idx]['id']=}\"\n",
    "        \n",
    "        # eval\n",
    "        old_eval_score_2 = r['eval_scores_2'][0]\n",
    "        eval_score_2 = eval_metric_model(article, summary_cleaned)\n",
    "\n",
    "        r['summaries_cleaned_2'] = [summary_cleaned]\n",
    "        r['eval_scores_2'] = [eval_score_2]\n",
    "        print(summary)\n",
    "        print(summary_cleaned)\n",
    "        print(f\"+{eval_score_2 - old_eval_score_2:.4f}\")\n",
    "\n",
    "# save results\n",
    "dump_jsonl(results, output_file_2)"
   ]
  },
  {
   "cell_type": "code",
   "execution_count": 26,
   "metadata": {},
   "outputs": [
    {
     "data": {
      "text/plain": [
       "Ttest_relResult(statistic=-4.004812318365176, pvalue=0.0001201310448210316)"
      ]
     },
     "execution_count": 26,
     "metadata": {},
     "output_type": "execute_result"
    }
   ],
   "source": [
    "# make paired t-test\n",
    "from scipy.stats import ttest_rel\n",
    "ttest_rel(scores_2, scores)"
   ]
  }
 ],
 "metadata": {
  "kernelspec": {
   "display_name": "Python 3",
   "language": "python",
   "name": "python3"
  },
  "language_info": {
   "codemirror_mode": {
    "name": "ipython",
    "version": 3
   },
   "file_extension": ".py",
   "mimetype": "text/x-python",
   "name": "python",
   "nbconvert_exporter": "python",
   "pygments_lexer": "ipython3",
   "version": "3.8.10"
  }
 },
 "nbformat": 4,
 "nbformat_minor": 2
}
