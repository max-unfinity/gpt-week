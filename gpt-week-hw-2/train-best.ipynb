{
 "cells": [
  {
   "cell_type": "code",
   "execution_count": 1,
   "metadata": {},
   "outputs": [],
   "source": [
    "import json\n",
    "from model_api import eval_metric_model, yagpt_lite\n",
    "from post_process import post_process_yagpt_lite\n",
    "from tqdm import tqdm\n",
    "import numpy as np\n",
    "import time\n",
    "import os\n",
    "import utils\n",
    "\n",
    "iam_token = 't1.9euelZqdx5CSm8jMj46ckMqWyYycxu3rnpWaz42dm4uLzouOlsfMypLLyZfl8_cNPw9U-e9-ZE1o_t3z901tDFT5735kTWj-zef1656VmpSaxpKZnM-eiozIkpGXmpXG7_zF656VmpSaxpKZnM-eiozIkpGXmpXG.iWyi4DG6jbihWsXSX-HKMVRtsYn_VlCqkZIuXr1oIAgh21ggc0Zx2sUho6OJqTtWj0AzYRiJHAcqIJPH6sAcAA'"
   ]
  },
  {
   "cell_type": "code",
   "execution_count": 2,
   "metadata": {},
   "outputs": [],
   "source": [
    "with open('train_data.json', 'r') as fin:\n",
    "    train_data = [json.loads(s) for s in fin.readlines()]"
   ]
  },
  {
   "cell_type": "markdown",
   "metadata": {},
   "source": [
    "## Find best summaries"
   ]
  },
  {
   "cell_type": "code",
   "execution_count": 3,
   "metadata": {},
   "outputs": [
    {
     "data": {
      "text/plain": [
       "(3330,\n",
       " {'Text': \"О том, как из C# я перешел в Elixir/Phoenix / Хабр                                                 \\n\\n11-01-2019\\nКак-то раз пришлось мне менять работу. До этого я работал только с языками типа Python, C++, C# и ещё парочкой подобных. А теперь пришлось начать работать с функциональным языком. Первые впечатления были «да что за фигня?». Однако у меня получилось достаточно быстро адаптироваться. Далее я расскажу об основных моментах, к которым пришлось привыкнуть или которые пришлось понять, чтобы начать писать быстро и адекватно. 1. Pattern matching Это одна из основных фишек языка. Но полностью осознать её, пока не начнешь реально писать на языке немного сложно. Первое что я прочел сопоставление паттернов — это то что благодаря этой штуке можно достаточно просто извлекать данные из структур и связывать их с переменными. Но на самом деле все несколько сложнее. Сопоставление паттернов работает почти везде в данном языке. Приведу три примера иллюстрирующих основные применения, которыми я пользуюсь почти постоянно. Пример 1. По определению: {tuple_item_1, tuple_item_2} = tuple – разбивает 2-х элементный кортеж на две переменных, которые далее можно использовать. [head_item | tail_list] = list – разбивает список на первый элемент в списке и список без первого элемента. Пример 2. Сопоставление в case: case get_elem(struct) do {:ok, elem} -> … {:error, reason} -> … end Функция get_elem(struct) возвращает кортеж, и case позволяет сразу извлечь данные и выбрать дальнейшую последовательность действий. Пример3. Сопоставление функций: def function_1(params, :ok) do end def function_1(params, :error) do end def function_1(params, _) do end Здесь по сути представлена одна и та же функция принимающая два параметра. Сопоставление паттернов позволяет выбрать, какую именно функцию исполнить. Немного о работе сопоставления паттернов. Сопоставление идет всегда «сверху-вниз». В данном примере при вызове function_1 от двух параметров, сначала произойдет проверка, что второй параметр равен :ok. Если первая проверка провалится, то произойдет проверка на :error. И если опять нет, то мы в любом случае войдем в третий вариант метода. Нижнее подчеркивание обозначает «любые данные», а также то, что пришедшие данные нас не интересуют, то есть мы их не будем использовать. Если бы function_1(params, _) стояла первой в списке, то программа всегда выбирала бы её, и остальные два метода не работали бы никогда. Если не будет найден нужный паттерн, то вылезет исключение. 2. Pipeline Это конструкции следующего вида: param_1 |> func_1() |> func_2(param_2) … С первого взгляда кажется фигня какая-то. Но стоит вспомнить о том, что Elixir – функциональный язык. И в функциональном языке вполне нормально делать вычисления функции от функции, без промежуточных переменных. Пайплайн – всего лишь удобная запись. Сам язык просит для ясности начинать пайплайн с переменной или значения. Пример выше можно переписать следующим образом: func_2(func_1(param_1), param_2) Иначе говоря, пайплайн перенаправляет результат вычисления предыдущей функции в следующую функцию первым аргументом. 3. Отсутствие циклов В Эликсире нет циклов. Этот факт вызвал наибольший шок у меня, и он наиболее сложен для понимания. Далее идет мое мнение и видение, которое может не совпадать с реальностью и теорией. Корни этого факта в функциональной парадигме программирования, одно из положений которой гласит, что результат работы программы – это работа функции, которая может вызывать другие функции и программа не предполагает хранение промежуточных состояний. Циклы, в свою очередь предназначены, для многократного изменения внешнего по отношению к циклу состояния. Заменой циклам служат 2 вещи – рекурсия и библиотечные методы работы с enumerable элементами языка. Немного ещё о мелочах. 1. В Элексире нет классов, но есть контексты. По сути контексты в некотором роде заменяют классы. Наиболее близкое описание контекста глазами си-шарпера: контексты это нечто среднее между классом и пространством имен в шарпе, причем к пространству имен контекст намного ближе. 2. Атомы. В Элексире есть такое понятие как атом. Атом по сути это нечто вроде «метки». Проще всего к ним относится как к особым строкам. В примерах этой статьи уже было два атома: :ok, :error. Благодаря атомам намного проще осуществлять сопоставление паттернов, и сложные логические конструкции. По сути это константы, у которых значением является их имя. Атом всегда имеет «:» перед именем. 3. Как правильно читать заголовки методов. В Elixir принято обозначать методы следующим образом (особенно часто это видно в документации): &function/2. Читается это как метод с именем «function» и арностью 2. Арность – количество принимаемых аргументов. Что мне помогло влиться в язык. Во-первых, это справочник на андройде «Elixir Tutorial». Он хорош тем, что кратко охватывает основные моменты языка и его синтаксиса, и его можно почитать в автобусе. Минус: он на английском, так что подойдет не каждому. Во-вторых, книга «Введение в Elixir» за авторством Сенлорен С., Эйзенберг Д… В данной книге показывают приемы работы с языком и объясняют их. Легко читается и позволяет значительно улучшить свою работу с языком. Также её можно найти на русском языке. В-третьих, официальная онлайн документация. Она сделана удобно и позволяет быстро находить нужные разделы/методы, с подробным описанием и примерами. На этом все. Список приведенных материалов: 1. Elixir Tutorial 2. Сенлорен С., Эйзенберг Д. Введение в Elixir. Введение в функциональное программирование. – O'Reilly, 2017. 3. Официальная документация.\\n\",\n",
       "  'metric': 0.6176757813,\n",
       "  'metric_input': 'Текст статьи:\\nО том, как из C# я перешел в Elixir/Phoenix / Хабр                                                 \\n\\n11-01-2019\\nКак-то раз пришлось мне менять работу. До этого я работал только с языками типа Python, C++, C# и ещё парочкой подобных. А теперь пришлось начать работать с функциональным языком. Первые впечатления были «да что за фигня?». Однако у меня получилось достаточно быстро адаптироваться. Далее я расскажу об основных моментах, к которым пришлось привыкнуть или которые пришлось понять, чтобы начать писать быстро и адекватно. 1. Pattern matching Это одна из основных фишек языка. Но полностью осознать её, пока не начнешь реально писать на языке немного сложно. Первое что я прочел сопоставление паттернов — это то что благодаря этой штуке можно достаточно просто извлекать данные из структур и связывать их с переменными. Но на самом деле все несколько сложнее. Сопоставление паттернов работает почти везде в данном языке. Приведу три примера иллюстрирующих основные применения, которыми я пользуюсь почти постоянно. Пример 1. По определению: {tuple_item_1, tuple_item_2} = tuple – разбивает 2-х элементный кортеж на две переменных, которые далее можно использовать. [head_item | tail_list] = list – разбивает список на первый элемент в списке и список без первого элемента. Пример 2. Сопоставление в case: case get_elem(struct) do {:ok, elem} -> … {:error, reason} -> … end Функция get_elem(struct) возвращает кортеж, и case позволяет сразу извлечь данные и выбрать дальнейшую последовательность действий. Пример3. Сопоставление функций: def function_1(params, :ok) do end def function_1(params, :error) do end def function_1(params, _) do end Здесь по сути представлена одна и та же функция принимающая два параметра. Сопоставление паттернов позволяет выбрать, какую именно функцию исполнить. Немного о работе сопоставления паттернов. Сопоставление идет всегда «сверху-вниз». В данном примере при вызове function_1 от двух параметров, сначала произойдет проверка, что второй параметр равен :ok. Если первая проверка провалится, то произойдет проверка на :error. И если опять нет, то мы в любом случае войдем в третий вариант метода. Нижнее подчеркивание обозначает «любые данные», а также то, что пришедшие данные нас не интересуют, то есть мы их не будем использовать. Если бы function_1(params, _) стояла первой в списке, то программа всегда выбирала бы её, и остальные два метода не работали бы никогда. Если не будет найден нужный паттерн, то вылезет исключение. 2. Pipeline Это конструкции следующего вида: param_1 |> func_1() |> func_2(param_2) … С первого взгляда кажется фигня какая-то. Но стоит вспомнить о том, что Elixir – функциональный язык. И в функциональном языке вполне нормально делать вычисления функции от функции, без промежуточных переменных. Пайплайн – всего лишь удобная запись. Сам язык просит для ясности начинать пайплайн с переменной или значения. Пример выше можно переписать следующим образом: func_2(func_1(param_1), param_2) Иначе говоря, пайплайн перенаправляет результат вычисления предыдущей функции в следующую функцию первым аргументом. 3. Отсутствие циклов В Эликсире нет циклов. Этот факт вызвал наибольший шок у меня, и он наиболее сложен для понимания. Далее идет мое мнение и видение, которое может не совпадать с реальностью и теорией. Корни этого факта в функциональной парадигме программирования, одно из положений которой гласит, что результат работы программы – это работа функции, которая может вызывать другие функции и программа не предполагает хранение промежуточных состояний. Циклы, в свою очередь предназначены, для многократного изменения внешнего по отношению к циклу состояния. Заменой циклам служат 2 вещи – рекурсия и библиотечные методы работы с enumerable элементами языка. Немного ещё о мелочах. 1. В Элексире нет классов, но есть контексты. По сути контексты в некотором роде заменяют классы. Наиболее близкое описание контекста глазами си-шарпера: контексты это нечто среднее между классом и пространством имен в шарпе, причем к пространству имен контекст намного ближе. 2. Атомы. В Элексире есть такое понятие как атом. Атом по сути это нечто вроде «метки». Проще всего к ним относится как к особым строкам. В примерах этой статьи уже было два атома: :ok, :error. Благодаря атомам намного проще осуществлять сопоставление паттернов, и сложные логические конструкции. По сути это константы, у которых значением является их имя. Атом всегда имеет «:» перед именем. 3. Как правильно читать заголовки методов. В Elixir принято обозначать методы следующим образом (особенно часто это видно в документации): &function/2. Читается это как метод с именем «function» и арностью 2. Арность – количество принимаемых аргументов. Что мне помогло влиться в язык. Во-первых, это справочник на андройде «Elixir Tutorial». Он хорош тем, что кратко охватывает основные моменты языка и его синтаксиса, и его можно почитать в автобусе. Минус: он на английском, так что подойдет не каждому. Во-вторых, книга «Введение в Elixir» за авторством Сенлорен С., Эйзенберг Д… В данной книге показывают приемы работы с языком и объясняют их. Легко читается и позволяет значительно улучшить свою работу с языком. Также её можно найти на русском языке. В-третьих, официальная онлайн документация. Она сделана удобно и позволяет быстро находить нужные разделы/методы, с подробным описанием и примерами. На этом все. Список приведенных материалов: 1. Elixir Tutorial 2. Сенлорен С., Эйзенберг Д. Введение в Elixir. Введение в функциональное программирование. – O\\'Reilly, 2017. 3. Официальная документация.\\n\\n\\nКраткое содержание:\\nВ статье рассказывается о том, как автор перешел с языка C# на функциональный язык Elixir/Phoenix. Основные моменты, с которыми пришлось столкнуться:\\n\\n1. Pattern matching - основная особенность языка, позволяющая извлекать данные из структур и связывать их с переменными.\\n2. Pipeline - удобная запись вычислений функций, без промежуточных переменных.\\n3. Отсутствие циклов - особенность функционального программирования, где результат работы программы - это работа функции.\\n4. Контексты вместо классов.\\n5. Атомы - константы, у которых значением является их имя.\\n6. Чтение заголовков методов - &function/2.\\n\\nАвтор также приводит материалы, которые помогли ему адаптироваться к новому языку: справочник Elixir Tutorial, книга \"Введение в Elixir\" Сенлорен С., Эйзенберг Д., и официальная документация.',\n",
       "  'summary': 'В статье рассказывается о том, как автор перешел с языка C# на функциональный язык Elixir/Phoenix. Основные моменты, с которыми пришлось столкнуться:\\n\\n1. Pattern matching - основная особенность языка, позволяющая извлекать данные из структур и связывать их с переменными.\\n2. Pipeline - удобная запись вычислений функций, без промежуточных переменных.\\n3. Отсутствие циклов - особенность функционального программирования, где результат работы программы - это работа функции.\\n4. Контексты вместо классов.\\n5. Атомы - константы, у которых значением является их имя.\\n6. Чтение заголовков методов - &function/2.\\n\\nАвтор также приводит материалы, которые помогли ему адаптироваться к новому языку: справочник Elixir Tutorial, книга \"Введение в Elixir\" Сенлорен С., Эйзенберг Д., и официальная документация.'})"
      ]
     },
     "execution_count": 3,
     "metadata": {},
     "output_type": "execute_result"
    }
   ],
   "source": [
    "# train_data[0] = {'Text': '«За сотню»: две «вертушки» для винила от Pro-Ject и Technics / Habr              \\n\\n29-10-2021\\nВ прошлый раз мы поговорили о проигрывателях от Yamaha, Denon и TEAC в сегменте «до 60 тысяч рублей», а потом продвинулись дальше с обзором чуть более дорогих систем от Denon и Pro-Ject. Сегодня переходим планку в сто тысяч за вертушку и смотрим, что готовы предложить за эту сумму бренды Pro-Ject и Technics. Проигрыватель Pro-Ject X2 — Audiomania.ru [ 105 000 ] Pro-Ject X2 — это одна из наиболее свежих разработок инженеров этого бренда. Проигрыватель производят в Европе, поэтому в качестве используемых материалов и реализации выбранных ими решений сомневаться не приходится. Шасси выполнено из MDF и имеет внушительную толщину — 50 мм. При общих габаритах системы [460 х 150 х 340 мм] это — серьезный показатель, как и ее существенный вес — 10 кг. Два килограмма из десяти приходятся на 300-мм опорный акриловый диск толщиной 30 мм. Он установлен на скрытый субдиск, опирающийся на подшипник из стали и бронзы со специальными вставками. Опорный диск здесь приводит в движение пассиковый привод, а для двигателя производитель использует специальную систему стабилизиации и электронного управления скоростью вращения SpeedBox. Она поддерживает три скорости [33 / 45 / 78 об/мин]. Из недостатков — у Pro-Ject X2 нет автостопа, однако наши специалисты рекомендуют установить полуавтоматический подъемник Pro-Ject Q UP [ 3 500 ]. Он поднимет тонарм по мере завершения проигрывания пластинки. Тонарм проигрывателя Pro-Ject X2 — Audiomania.ru Тонарм представляет собой 230-мм трубку из алюминия и углепластика. В него интегрирован шелл для установки MM- и MC-звукоснимателей. Кстати, в последнем случае массивный опорный диск и шасси позволяют минимизировать потенциальные детонации. Стоит заметить, что российский вариант комплектации в большинстве случаев поступает на прилавки магазинов без картриджа, поэтому мы рекомендуем присмотреться к головкам от Ortofon , пусть и далеко не всегда бюджетным. Из других нюансов — есть RCA (Phono) и соответсвующий кабель Connect It E. Присутствует акриловая пылезащитная крышка и специальные опоры для шасси с резиновой вставкой. При необходимости они поддаются регулировке, а их нижняя поверхность оклеена фетром. В целом проигрыватель идет в двух вариантах отделки — шпон натурального дерева и многослойный лак. Сравнение с младшей моделью бренда [X1] есть тут . В нем вы найдете не только крупные снимки X2, но и подробный рассказ эксперта Stereo.ru о впечатлениях от прослушивания этой системы. Проигрыватель Technics SL-1200 MK7 — Audiomania.ru [ 119 990 ] Technics SL-1200 MK7 обладает сопоставимыми габаритами [453 x 169 x 353 мм] и весом [9,6 кг], плюс — включает несколько доработанных решений, использованных в других вертушках бренда. Например, двигатель с высоким пусковым моментом. Он предоставляет возможность плавной регулировки скорости, «подтормаживания» в ручном режиме и вращения в обе стороны. Привод — прямой, есть питч-контроль и электронная регулировка скорости [33 / 45 / 78 об/мин]. 332-мм опорный диск [1,8 кг] выполнен из алюминия, как и шасси проигрывателя. Верхняя плоскость диска обеспечена резиновым покрытием, которое служит в роли мата. Тонарм для этой модели инженеры выбрали классический. Это — 230-мм статически сбалансированная s-образная трубка. В силу гораздо большего профессионального уклона — по сравнению с Pro-Ject X2 — он «заточен» для стабильной работы в весьма специфических условиях. Из других нюансов — у вертушки есть система подсветка Target Light и возможность переключать цвет подсветки стробоскопа и органов управления. Опоры проигрывателя можно регулировать. Обзоры других проигрывателей винила в нашем хабраблоге: 1 , 2 , 3 , 4 , 5 , 6 , 7 , 8 , 9 . Дополнительное чтение по теме у нас в «Мире Hi-Fi»: «Между винилом и кассетой»: история тефифона «Камера, мотор, музыка!»: как режиссеры используют винил в кино От левитирующих пластинок до звука из коробки — 6 гаджетов для винила От игр до тайных сообщений: обсуждаем «пасхалки» в виниловых релизах Почему вернулся винил, и как с этим связаны стриминговые сервисы Винил вместо почтовой марки: необычный раритет Как развивалось домашнее аудио: эра винила\\n',\n",
    "#  'metric': 0.4780273438,\n",
    "#  'metric_input': 'Текст статьи:\\n«За сотню»: две «вертушки» для винила от Pro-Ject и Technics / Habr              \\n\\n29-10-2021\\nВ прошлый раз мы поговорили о проигрывателях от Yamaha, Denon и TEAC в сегменте «до 60 тысяч рублей», а потом продвинулись дальше с обзором чуть более дорогих систем от Denon и Pro-Ject. Сегодня переходим планку в сто тысяч за вертушку и смотрим, что готовы предложить за эту сумму бренды Pro-Ject и Technics. Проигрыватель Pro-Ject X2 — Audiomania.ru [ 105 000 ] Pro-Ject X2 — это одна из наиболее свежих разработок инженеров этого бренда. Проигрыватель производят в Европе, поэтому в качестве используемых материалов и реализации выбранных ими решений сомневаться не приходится. Шасси выполнено из MDF и имеет внушительную толщину — 50 мм. При общих габаритах системы [460 х 150 х 340 мм] это — серьезный показатель, как и ее существенный вес — 10 кг. Два килограмма из десяти приходятся на 300-мм опорный акриловый диск толщиной 30 мм. Он установлен на скрытый субдиск, опирающийся на подшипник из стали и бронзы со специальными вставками. Опорный диск здесь приводит в движение пассиковый привод, а для двигателя производитель использует специальную систему стабилизиации и электронного управления скоростью вращения SpeedBox. Она поддерживает три скорости [33 / 45 / 78 об/мин]. Из недостатков — у Pro-Ject X2 нет автостопа, однако наши специалисты рекомендуют установить полуавтоматический подъемник Pro-Ject Q UP [ 3 500 ]. Он поднимет тонарм по мере завершения проигрывания пластинки. Тонарм проигрывателя Pro-Ject X2 — Audiomania.ru Тонарм представляет собой 230-мм трубку из алюминия и углепластика. В него интегрирован шелл для установки MM- и MC-звукоснимателей. Кстати, в последнем случае массивный опорный диск и шасси позволяют минимизировать потенциальные детонации. Стоит заметить, что российский вариант комплектации в большинстве случаев поступает на прилавки магазинов без картриджа, поэтому мы рекомендуем присмотреться к головкам от Ortofon , пусть и далеко не всегда бюджетным. Из других нюансов — есть RCA (Phono) и соответсвующий кабель Connect It E. Присутствует акриловая пылезащитная крышка и специальные опоры для шасси с резиновой вставкой. При необходимости они поддаются регулировке, а их нижняя поверхность оклеена фетром. В целом проигрыватель идет в двух вариантах отделки — шпон натурального дерева и многослойный лак. Сравнение с младшей моделью бренда [X1] есть тут . В нем вы найдете не только крупные снимки X2, но и подробный рассказ эксперта Stereo.ru о впечатлениях от прослушивания этой системы. Проигрыватель Technics SL-1200 MK7 — Audiomania.ru [ 119 990 ] Technics SL-1200 MK7 обладает сопоставимыми габаритами [453 x 169 x 353 мм] и весом [9,6 кг], плюс — включает несколько доработанных решений, использованных в других вертушках бренда. Например, двигатель с высоким пусковым моментом. Он предоставляет возможность плавной регулировки скорости, «подтормаживания» в ручном режиме и вращения в обе стороны. Привод — прямой, есть питч-контроль и электронная регулировка скорости [33 / 45 / 78 об/мин]. 332-мм опорный диск [1,8 кг] выполнен из алюминия, как и шасси проигрывателя. Верхняя плоскость диска обеспечена резиновым покрытием, которое служит в роли мата. Тонарм для этой модели инженеры выбрали классический. Это — 230-мм статически сбалансированная s-образная трубка. В силу гораздо большего профессионального уклона — по сравнению с Pro-Ject X2 — он «заточен» для стабильной работы в весьма специфических условиях. Из других нюансов — у вертушки есть система подсветка Target Light и возможность переключать цвет подсветки стробоскопа и органов управления. Опоры проигрывателя можно регулировать. Обзоры других проигрывателей винила в нашем хабраблоге: 1 , 2 , 3 , 4 , 5 , 6 , 7 , 8 , 9 . Дополнительное чтение по теме у нас в «Мире Hi-Fi»: «Между винилом и кассетой»: история тефифона «Камера, мотор, музыка!»: как режиссеры используют винил в кино От левитирующих пластинок до звука из коробки — 6 гаджетов для винила От игр до тайных сообщений: обсуждаем «пасхалки» в виниловых релизах Почему вернулся винил, и как с этим связаны стриминговые сервисы Винил вместо почтовой марки: необычный раритет Как развивалось домашнее аудио: эра винила\\n\\n\\nКраткое содержание:\\nВ статье рассматриваются два проигрывателя винила от Pro-Ject и Technics, которые стоят дороже 100 тысяч рублей. Pro-Ject X2 имеет массивное шасси и акриловый опорный диск, а его тонарм интегрирован с шеллом для установки звукоснимателей. Technics SL-1200 MK7 имеет прямой привод и регулируемую скорость вращения.',\n",
    "#  'summary': 'В статье рассматриваются два проигрывателя винила от Pro-Ject и Technics, которые стоят дороже 100 тысяч рублей. Pro-Ject X2 имеет массивное шасси и акриловый опорный диск, а его тонарм интегрирован с шеллом для установки звукоснимателей. Technics SL-1200 MK7 имеет прямой привод и регулируемую скорость вращения.'}\n",
    "\n",
    "# get best 10% of the train data by metric\n",
    "train_data_best = sorted(train_data, key=lambda x: x['metric'], reverse=True)\n",
    "train_data_best = train_data_best[:int(len(train_data_best) * 0.3)]\n",
    "len(train_data_best), train_data_best[-1]"
   ]
  },
  {
   "cell_type": "code",
   "execution_count": 4,
   "metadata": {},
   "outputs": [
    {
     "data": {
      "image/png": "[encoded data removed]",
      "text/plain": [
       "<Figure size 640x480 with 1 Axes>"
      ]
     },
     "metadata": {},
     "output_type": "display_data"
    }
   ],
   "source": [
    "# plot hist of metrics\n",
    "import matplotlib.pyplot as plt\n",
    "plt.hist([x['metric'] for x in train_data_best], bins=20)\n",
    "plt.show()\n"
   ]
  },
  {
   "cell_type": "code",
   "execution_count": 16,
   "metadata": {},
   "outputs": [
    {
     "data": {
      "text/plain": [
       "0.622559"
      ]
     },
     "execution_count": 16,
     "metadata": {},
     "output_type": "execute_result"
    }
   ],
   "source": [
    "from model_api import eval_metric_model, yagpt_lite, yagpt_summarization\n",
    "from post_process import post_process_yagpt_summarization\n",
    "\n",
    "idx = -1\n",
    "s = yagpt_summarization(train_data_best[idx]['Text'], iam_token, 0.1)\n",
    "s = post_process_yagpt_summarization(s)\n",
    "\n",
    "eval_score = eval_metric_model(train_data_best[idx]['Text'], s)\n",
    "eval_score"
   ]
  },
  {
   "cell_type": "code",
   "execution_count": 17,
   "metadata": {},
   "outputs": [
    {
     "data": {
      "text/plain": [
       "0.6176757813"
      ]
     },
     "execution_count": 17,
     "metadata": {},
     "output_type": "execute_result"
    }
   ],
   "source": [
    "train_data_best[idx]['metric']"
   ]
  },
  {
   "cell_type": "code",
   "execution_count": 5,
   "metadata": {},
   "outputs": [
    {
     "name": "stderr",
     "output_type": "stream",
     "text": [
      "100%|██████████| 3330/3330 [00:00<00:00, 1315163.12it/s]\n"
     ]
    }
   ],
   "source": [
    "# make train data json\n",
    "train_data_json = []\n",
    "for x in tqdm(train_data_best):\n",
    "    train_data_json.append({'request': x['Text'], 'response': x['summary']})"
   ]
  },
  {
   "cell_type": "code",
   "execution_count": 6,
   "metadata": {},
   "outputs": [
    {
     "data": {
      "text/plain": [
       "18"
      ]
     },
     "execution_count": 6,
     "metadata": {},
     "output_type": "execute_result"
    }
   ],
   "source": [
    "# filter out too long texts\n",
    "max_request_len = 4000\n",
    "max_response_len = 2000\n",
    "train_data_json_filtered = [x for x in train_data_json if len(x['request']) < max_request_len and len(x['response']) < max_response_len]\n",
    "len(train_data_json_filtered)"
   ]
  },
  {
   "cell_type": "code",
   "execution_count": 21,
   "metadata": {},
   "outputs": [],
   "source": [
    "# shuffle train data with seed\n",
    "import random\n",
    "random.seed(42)\n",
    "random.shuffle(train_data_json_filtered)\n"
   ]
  },
  {
   "cell_type": "code",
   "execution_count": 7,
   "metadata": {},
   "outputs": [
    {
     "data": {
      "text/plain": [
       "{'request': 'Кластеризация беспроводных точек доступа с использованием метода k-средних / Habr                        \\n\\n28-02-2019\\nВизуализация и анализ данных в настоящее время широко применяется в телекоммуникационной отрасли. В частности, анализ в значительной степени зависит от использования геопространственных данных. Возможно, это связано с тем, что телекоммуникационные сети сами по себе географически разбросаны. Соответственно, анализ таких дисперсий может дать огромную ценность. Данные Чтобы проиллюстрировать алгоритм кластеризации k-средних мы воспользуемся базой географических данных для бесплатного общественного WiFi в Нью-Йорке. Набор данных доступен в NYC Open Data. В частности, алгоритм кластеризации k-средних используется для формирования кластеров использования WiFi на основе данных широты и долготы. Из самого набора данных данные о широте и долготе извлекаются с использованием языка программирования R: #1. Prepare data newyork<-read.csv(\"NYC_Free_Public_WiFi_03292017.csv\") attach(newyork) newyorkdf<-data.frame(newyork$LAT,newyork$LON) Вот фрагмент данных: Определяем количество кластеров Далее определяем количество кластеров с помощью ниже приложенного кода, который показывает результат в виде графика. #2. Determine number of clusters wss <- (nrow(newyorkdf)-1)*sum(apply(newyorkdf,2,var)) for (i in 2:20) wss[i] <- sum(kmeans(newyorkdf, centers=i)$withinss) plot(1:20, wss, type=\"b\", xlab=\"Number of Clusters\", ylab=\"Within groups sum of squares\") На графике видно, как кривая выравнивается примерно на отметке 11. Следовательно, это количество кластеров, которые будут использоваться в модели k-средних. Анализ K-средних Сам анализ K-средних проводится: #3. K-Means Cluster Analysis set.seed(20) fit <- kmeans(newyorkdf, 11) # 11 cluster solution # get cluster means aggregate(newyorkdf,by=list(fit$cluster),FUN=mean) # append cluster assignment newyorkdf <- data.frame(newyorkdf, fit$cluster) newyorkdf newyorkdf$fit.cluster <- as.factor(newyorkdf$fit.cluster) library(ggplot2) ggplot(newyorkdf, aes(x=newyork.LON, y=newyork.LAT, color = newyorkdf$fit.cluster)) + geom_point() Во наборе данных newyorkdf имеется информация о широте, долготе и метка кластера: > newyorkdf newyork.LAT newyork.LON fit.cluster 1 40.75573 -73.94458 1 2 40.75533 -73.94413 1 3 40.75575 -73.94517 1 4 40.75575 -73.94517 1 5 40.75575 -73.94517 1 6 40.75575 -73.94517 1 … 80 40.84832 -73.82075 11 Вот наглядная иллюстрация: Эта иллюстрация полезна, но визуализация будет еще ценнее если наложить ее на карту самого Нью-Йорка. # devtools::install_github(\"zachcp/nycmaps\") library(nycmaps) map(database=\"nyc\") #this should also work with ggplot and ggalt nyc <- map_data(\"nyc\") gg <- ggplot() gg <- gg + geom_map( data=nyc, map=nyc, aes(x=long, y=lat, map_id=region)) gg + geom_point(data = newyorkdf, aes(x = newyork.LON, y = newyork.LAT), colour = newyorkdf$fit.cluster, alpha = .5) + ggtitle(\"New York Public WiFi\") Этот тип кластеризации дает отличное представление о структуре сети WiFi в городе. Это указывает на то, что географический регион, отмеченный кластером 1, показывает большой трафик WiFi. С другой стороны, меньшее количество соединений в кластере 6 может указывать на низкий трафик WiFi. Кластеризация K-Means сама по себе не говорит нам, почему трафик для конкретного кластера высок или низок. Например, когда кластер 6 имеет высокую плотность населения, но низкая скорость интернета приводит к меньшему количеству соединений. Однако этот алгоритм кластеризации обеспечивает отличную отправную точку для дальнейшего анализа и облегчает сбор дополнительной информации. Например, на примере данной карты можно строить гипотезы касательно отдельных географических кластеров. Оригинал статьи находится тут.\\n',\n",
       " 'response': 'Текст рассказывает о применении метода кластеризации k-средних для анализа данных о беспроводных точках доступа в Нью-Йорке. Авторы использовали геопространственные данные для формирования кластеров, позволяющих выявить различия в использовании WiFi в разных географических регионах. Кластеризация помогает визуализировать и анализировать структуру сети WiFi в городе, а также может быть отправной точкой для дальнейшего анализа и получения дополнительной информации.'}"
      ]
     },
     "execution_count": 7,
     "metadata": {},
     "output_type": "execute_result"
    }
   ],
   "source": [
    "# save train data json\n",
    "import json\n",
    "json.dump(train_data_json_filtered, open('train_data_best_filtered.json', 'w'), ensure_ascii=False)\n",
    "train_data_json_filtered[0]"
   ]
  }
 ],
 "metadata": {
  "kernelspec": {
   "display_name": "Python 3",
   "language": "python",
   "name": "python3"
  },
  "language_info": {
   "codemirror_mode": {
    "name": "ipython",
    "version": 3
   },
   "file_extension": ".py",
   "mimetype": "text/x-python",
   "name": "python",
   "nbconvert_exporter": "python",
   "pygments_lexer": "ipython3",
   "version": "3.8.10"
  }
 },
 "nbformat": 4,
 "nbformat_minor": 2
}
