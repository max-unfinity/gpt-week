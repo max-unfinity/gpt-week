{
 "cells": [
  {
   "cell_type": "code",
   "execution_count": 1,
   "metadata": {},
   "outputs": [],
   "source": [
    "import json\n",
    "from model_api import eval_metric_model, yagpt_summarization, yagpt_lite, yagpt_alpha\n",
    "from post_process import post_process_yagpt_summarization, post_process_yagpt_lite\n",
    "from tqdm import tqdm\n",
    "import numpy as np\n",
    "import time\n",
    "\n",
    "iam_token = 't1.9euelZqZyI-Rk5Gbiouak8aMx8_Ik-3rnpWaz42dm4uLzouOlsfMypLLyZfl8_cWLx9U-e8VEz4r_d3z91ZdHFT57xUTPiv9zef1656VmpbHzpnNm5bOlJLLjZSNjY3P7_zF656VmpbHzpnNm5bOlJLLjZSNjY3P.IeBKxXTkKJDtD6q0bD90L9eyWXavaoXqyl3xBEW5ibhsF-ZtSp7Y6si8cRTBBznBHonjjaZYhp5XYXxtH_G6BA'"
   ]
  },
  {
   "cell_type": "code",
   "execution_count": 2,
   "metadata": {},
   "outputs": [],
   "source": [
    "with open('test_articles_clear_100.json', 'r') as fin:\n",
    "    test_articles = [json.loads(s) for s in fin.readlines()]"
   ]
  },
  {
   "cell_type": "markdown",
   "metadata": {},
   "source": [
    "## YaGPT Summarization"
   ]
  },
  {
   "cell_type": "code",
   "execution_count": 8,
   "metadata": {},
   "outputs": [],
   "source": [
    "output_file = 'test_results_yagpt_summarization.json'\n",
    "skip = 0\n",
    "n_generations = 1\n",
    "sleep_time = 5\n",
    "\n",
    "def generation_fn(article):\n",
    "    summary = yagpt_summarization(article, iam_token, temperature=0.1)\n",
    "    summary = post_process_yagpt_summarization(summary)\n",
    "    return summary\n",
    "\n",
    "\n",
    "results = []"
   ]
  },
  {
   "cell_type": "code",
   "execution_count": 10,
   "metadata": {},
   "outputs": [
    {
     "name": "stdout",
     "output_type": "stream",
     "text": [
      "Skip=0\n",
      "Total data samples=100\n"
     ]
    },
    {
     "name": "stderr",
     "output_type": "stream",
     "text": [
      "  1%|          | 1/100 [00:10<17:41, 10.72s/it]"
     ]
    },
    {
     "name": "stdout",
     "output_type": "stream",
     "text": [
      "Eval score stats: idx=0, mean=0.458984, std=0.0\n"
     ]
    },
    {
     "name": "stderr",
     "output_type": "stream",
     "text": [
      "  2%|▏         | 2/100 [00:18<14:59,  9.18s/it]"
     ]
    },
    {
     "name": "stdout",
     "output_type": "stream",
     "text": [
      "Eval score stats: idx=1, mean=0.385986, std=0.0\n"
     ]
    },
    {
     "name": "stderr",
     "output_type": "stream",
     "text": [
      "  3%|▎         | 3/100 [00:28<15:33,  9.62s/it]"
     ]
    },
    {
     "name": "stdout",
     "output_type": "stream",
     "text": [
      "Eval score stats: idx=2, mean=0.600586, std=0.0\n"
     ]
    },
    {
     "name": "stderr",
     "output_type": "stream",
     "text": [
      "  4%|▍         | 4/100 [00:38<15:24,  9.63s/it]"
     ]
    },
    {
     "name": "stdout",
     "output_type": "stream",
     "text": [
      "Eval score stats: idx=3, mean=0.493652, std=0.0\n"
     ]
    },
    {
     "name": "stderr",
     "output_type": "stream",
     "text": [
      "  5%|▌         | 5/100 [00:48<15:13,  9.61s/it]"
     ]
    },
    {
     "name": "stdout",
     "output_type": "stream",
     "text": [
      "Eval score stats: idx=4, mean=0.640625, std=0.0\n"
     ]
    },
    {
     "name": "stderr",
     "output_type": "stream",
     "text": [
      "  6%|▌         | 6/100 [00:57<15:07,  9.66s/it]"
     ]
    },
    {
     "name": "stdout",
     "output_type": "stream",
     "text": [
      "Eval score stats: idx=5, mean=0.619141, std=0.0\n"
     ]
    },
    {
     "name": "stderr",
     "output_type": "stream",
     "text": [
      "  7%|▋         | 7/100 [01:07<14:54,  9.62s/it]"
     ]
    },
    {
     "name": "stdout",
     "output_type": "stream",
     "text": [
      "Eval score stats: idx=6, mean=0.649902, std=0.0\n"
     ]
    },
    {
     "name": "stderr",
     "output_type": "stream",
     "text": [
      "  8%|▊         | 8/100 [01:15<14:08,  9.23s/it]"
     ]
    },
    {
     "name": "stdout",
     "output_type": "stream",
     "text": [
      "Eval score stats: idx=7, mean=0.483643, std=0.0\n"
     ]
    },
    {
     "name": "stderr",
     "output_type": "stream",
     "text": [
      "  9%|▉         | 9/100 [01:25<14:12,  9.37s/it]"
     ]
    },
    {
     "name": "stdout",
     "output_type": "stream",
     "text": [
      "Eval score stats: idx=8, mean=0.652344, std=0.0\n"
     ]
    },
    {
     "name": "stderr",
     "output_type": "stream",
     "text": [
      " 10%|█         | 10/100 [01:33<13:17,  8.86s/it]"
     ]
    },
    {
     "name": "stdout",
     "output_type": "stream",
     "text": [
      "Eval score stats: idx=9, mean=0.657227, std=0.0\n"
     ]
    },
    {
     "name": "stderr",
     "output_type": "stream",
     "text": [
      " 11%|█         | 11/100 [01:41<12:42,  8.57s/it]"
     ]
    },
    {
     "name": "stdout",
     "output_type": "stream",
     "text": [
      "Eval score stats: idx=10, mean=0.401123, std=0.0\n"
     ]
    },
    {
     "name": "stderr",
     "output_type": "stream",
     "text": [
      " 12%|█▏        | 12/100 [01:49<12:16,  8.37s/it]"
     ]
    },
    {
     "name": "stdout",
     "output_type": "stream",
     "text": [
      "Eval score stats: idx=11, mean=0.412842, std=0.0\n"
     ]
    },
    {
     "name": "stderr",
     "output_type": "stream",
     "text": [
      " 13%|█▎        | 13/100 [01:58<12:43,  8.77s/it]"
     ]
    },
    {
     "name": "stdout",
     "output_type": "stream",
     "text": [
      "Eval score stats: idx=12, mean=0.572266, std=0.0\n"
     ]
    },
    {
     "name": "stderr",
     "output_type": "stream",
     "text": [
      " 14%|█▍        | 14/100 [02:06<12:18,  8.59s/it]"
     ]
    },
    {
     "name": "stdout",
     "output_type": "stream",
     "text": [
      "Eval score stats: idx=13, mean=0.60791, std=0.0\n"
     ]
    },
    {
     "name": "stderr",
     "output_type": "stream",
     "text": [
      " 15%|█▌        | 15/100 [02:17<12:52,  9.09s/it]"
     ]
    },
    {
     "name": "stdout",
     "output_type": "stream",
     "text": [
      "Eval score stats: idx=14, mean=0.604492, std=0.0\n",
      "Error: 429, {\"error\":{\"grpcCode\":8,\"httpCode\":429,\"message\":\"ai.textGenerationCompletionSessionsCount.count gauge quota limit exceed: allowed 3 requests\",\"httpStatus\":\"Too Many Requests\",\"details\":[]}}\n"
     ]
    },
    {
     "name": "stderr",
     "output_type": "stream",
     "text": [
      " 16%|█▌        | 16/100 [03:25<37:39, 26.90s/it]"
     ]
    },
    {
     "name": "stdout",
     "output_type": "stream",
     "text": [
      "Eval score stats: idx=15, mean=0.620605, std=0.0\n"
     ]
    },
    {
     "name": "stderr",
     "output_type": "stream",
     "text": [
      " 17%|█▋        | 17/100 [03:35<30:03, 21.72s/it]"
     ]
    },
    {
     "name": "stdout",
     "output_type": "stream",
     "text": [
      "Eval score stats: idx=16, mean=0.611328, std=0.0\n"
     ]
    },
    {
     "name": "stderr",
     "output_type": "stream",
     "text": [
      " 18%|█▊        | 18/100 [03:42<23:50, 17.45s/it]"
     ]
    },
    {
     "name": "stdout",
     "output_type": "stream",
     "text": [
      "Eval score stats: idx=17, mean=0.62793, std=0.0\n"
     ]
    },
    {
     "name": "stderr",
     "output_type": "stream",
     "text": [
      " 19%|█▉        | 19/100 [03:49<19:26, 14.41s/it]"
     ]
    },
    {
     "name": "stdout",
     "output_type": "stream",
     "text": [
      "Eval score stats: idx=18, mean=0.583008, std=0.0\n"
     ]
    },
    {
     "name": "stderr",
     "output_type": "stream",
     "text": [
      " 20%|██        | 20/100 [03:58<16:42, 12.53s/it]"
     ]
    },
    {
     "name": "stdout",
     "output_type": "stream",
     "text": [
      "Eval score stats: idx=19, mean=0.575684, std=0.0\n"
     ]
    },
    {
     "name": "stderr",
     "output_type": "stream",
     "text": [
      " 21%|██        | 21/100 [04:06<14:55, 11.33s/it]"
     ]
    },
    {
     "name": "stdout",
     "output_type": "stream",
     "text": [
      "Eval score stats: idx=20, mean=0.543457, std=0.0\n"
     ]
    },
    {
     "name": "stderr",
     "output_type": "stream",
     "text": [
      " 22%|██▏       | 22/100 [04:16<14:02, 10.81s/it]"
     ]
    },
    {
     "name": "stdout",
     "output_type": "stream",
     "text": [
      "Eval score stats: idx=21, mean=0.620117, std=0.0\n"
     ]
    },
    {
     "name": "stderr",
     "output_type": "stream",
     "text": [
      " 23%|██▎       | 23/100 [04:26<13:34, 10.58s/it]"
     ]
    },
    {
     "name": "stdout",
     "output_type": "stream",
     "text": [
      "Eval score stats: idx=22, mean=0.605469, std=0.0\n"
     ]
    },
    {
     "name": "stderr",
     "output_type": "stream",
     "text": [
      " 24%|██▍       | 24/100 [04:36<13:04, 10.33s/it]"
     ]
    },
    {
     "name": "stdout",
     "output_type": "stream",
     "text": [
      "Eval score stats: idx=23, mean=0.510254, std=0.0\n"
     ]
    },
    {
     "name": "stderr",
     "output_type": "stream",
     "text": [
      " 25%|██▌       | 25/100 [04:44<12:11,  9.75s/it]"
     ]
    },
    {
     "name": "stdout",
     "output_type": "stream",
     "text": [
      "Eval score stats: idx=24, mean=0.650879, std=0.0\n"
     ]
    },
    {
     "name": "stderr",
     "output_type": "stream",
     "text": [
      " 26%|██▌       | 26/100 [04:53<11:57,  9.70s/it]"
     ]
    },
    {
     "name": "stdout",
     "output_type": "stream",
     "text": [
      "Eval score stats: idx=25, mean=0.329102, std=0.0\n"
     ]
    },
    {
     "name": "stderr",
     "output_type": "stream",
     "text": [
      " 27%|██▋       | 27/100 [05:02<11:23,  9.36s/it]"
     ]
    },
    {
     "name": "stdout",
     "output_type": "stream",
     "text": [
      "Eval score stats: idx=26, mean=0.652832, std=0.0\n"
     ]
    },
    {
     "name": "stderr",
     "output_type": "stream",
     "text": [
      " 28%|██▊       | 28/100 [05:11<10:54,  9.09s/it]"
     ]
    },
    {
     "name": "stdout",
     "output_type": "stream",
     "text": [
      "Eval score stats: idx=27, mean=0.559082, std=0.0\n"
     ]
    },
    {
     "name": "stderr",
     "output_type": "stream",
     "text": [
      " 29%|██▉       | 29/100 [05:19<10:27,  8.83s/it]"
     ]
    },
    {
     "name": "stdout",
     "output_type": "stream",
     "text": [
      "Eval score stats: idx=28, mean=0.611816, std=0.0\n"
     ]
    },
    {
     "name": "stderr",
     "output_type": "stream",
     "text": [
      " 30%|███       | 30/100 [05:29<10:55,  9.37s/it]"
     ]
    },
    {
     "name": "stdout",
     "output_type": "stream",
     "text": [
      "Eval score stats: idx=29, mean=0.55957, std=0.0\n"
     ]
    },
    {
     "name": "stderr",
     "output_type": "stream",
     "text": [
      " 31%|███       | 31/100 [05:39<10:56,  9.52s/it]"
     ]
    },
    {
     "name": "stdout",
     "output_type": "stream",
     "text": [
      "Eval score stats: idx=30, mean=0.488281, std=0.0\n"
     ]
    },
    {
     "name": "stderr",
     "output_type": "stream",
     "text": [
      " 32%|███▏      | 32/100 [05:48<10:23,  9.16s/it]"
     ]
    },
    {
     "name": "stdout",
     "output_type": "stream",
     "text": [
      "Eval score stats: idx=31, mean=0.677734, std=0.0\n"
     ]
    },
    {
     "name": "stderr",
     "output_type": "stream",
     "text": [
      " 33%|███▎      | 33/100 [05:55<09:47,  8.77s/it]"
     ]
    },
    {
     "name": "stdout",
     "output_type": "stream",
     "text": [
      "Eval score stats: idx=32, mean=0.604004, std=0.0\n"
     ]
    },
    {
     "name": "stderr",
     "output_type": "stream",
     "text": [
      " 34%|███▍      | 34/100 [06:06<10:20,  9.41s/it]"
     ]
    },
    {
     "name": "stdout",
     "output_type": "stream",
     "text": [
      "Eval score stats: idx=33, mean=0.663574, std=0.0\n"
     ]
    },
    {
     "name": "stderr",
     "output_type": "stream",
     "text": [
      " 35%|███▌      | 35/100 [06:15<09:50,  9.09s/it]"
     ]
    },
    {
     "name": "stdout",
     "output_type": "stream",
     "text": [
      "Eval score stats: idx=34, mean=0.69873, std=0.0\n"
     ]
    },
    {
     "name": "stderr",
     "output_type": "stream",
     "text": [
      " 36%|███▌      | 36/100 [06:22<09:13,  8.65s/it]"
     ]
    },
    {
     "name": "stdout",
     "output_type": "stream",
     "text": [
      "Eval score stats: idx=35, mean=0.671875, std=0.0\n"
     ]
    },
    {
     "name": "stderr",
     "output_type": "stream",
     "text": [
      " 37%|███▋      | 37/100 [06:30<08:42,  8.29s/it]"
     ]
    },
    {
     "name": "stdout",
     "output_type": "stream",
     "text": [
      "Eval score stats: idx=36, mean=0.552734, std=0.0\n"
     ]
    },
    {
     "name": "stderr",
     "output_type": "stream",
     "text": [
      " 38%|███▊      | 38/100 [06:37<08:18,  8.04s/it]"
     ]
    },
    {
     "name": "stdout",
     "output_type": "stream",
     "text": [
      "Eval score stats: idx=37, mean=0.593262, std=0.0\n"
     ]
    },
    {
     "name": "stderr",
     "output_type": "stream",
     "text": [
      " 39%|███▉      | 39/100 [06:47<08:42,  8.57s/it]"
     ]
    },
    {
     "name": "stdout",
     "output_type": "stream",
     "text": [
      "Eval score stats: idx=38, mean=0.580566, std=0.0\n"
     ]
    },
    {
     "name": "stderr",
     "output_type": "stream",
     "text": [
      " 40%|████      | 40/100 [06:57<08:59,  8.99s/it]"
     ]
    },
    {
     "name": "stdout",
     "output_type": "stream",
     "text": [
      "Eval score stats: idx=39, mean=0.403564, std=0.0\n"
     ]
    },
    {
     "name": "stderr",
     "output_type": "stream",
     "text": [
      " 41%|████      | 41/100 [07:10<09:59, 10.16s/it]"
     ]
    },
    {
     "name": "stdout",
     "output_type": "stream",
     "text": [
      "Eval score stats: idx=40, mean=0.538086, std=0.0\n"
     ]
    },
    {
     "name": "stderr",
     "output_type": "stream",
     "text": [
      " 42%|████▏     | 42/100 [07:20<09:43, 10.06s/it]"
     ]
    },
    {
     "name": "stdout",
     "output_type": "stream",
     "text": [
      "Eval score stats: idx=41, mean=0.546387, std=0.0\n"
     ]
    },
    {
     "name": "stderr",
     "output_type": "stream",
     "text": [
      " 43%|████▎     | 43/100 [07:29<09:25,  9.92s/it]"
     ]
    },
    {
     "name": "stdout",
     "output_type": "stream",
     "text": [
      "Eval score stats: idx=42, mean=0.637695, std=0.0\n"
     ]
    },
    {
     "name": "stderr",
     "output_type": "stream",
     "text": [
      " 44%|████▍     | 44/100 [07:40<09:33, 10.24s/it]"
     ]
    },
    {
     "name": "stdout",
     "output_type": "stream",
     "text": [
      "Eval score stats: idx=43, mean=0.558594, std=0.0\n"
     ]
    },
    {
     "name": "stderr",
     "output_type": "stream",
     "text": [
      " 45%|████▌     | 45/100 [07:51<09:27, 10.32s/it]"
     ]
    },
    {
     "name": "stdout",
     "output_type": "stream",
     "text": [
      "Eval score stats: idx=44, mean=0.629883, std=0.0\n"
     ]
    },
    {
     "name": "stderr",
     "output_type": "stream",
     "text": [
      " 46%|████▌     | 46/100 [07:59<08:46,  9.74s/it]"
     ]
    },
    {
     "name": "stdout",
     "output_type": "stream",
     "text": [
      "Eval score stats: idx=45, mean=0.364014, std=0.0\n"
     ]
    },
    {
     "name": "stderr",
     "output_type": "stream",
     "text": [
      " 47%|████▋     | 47/100 [08:08<08:15,  9.35s/it]"
     ]
    },
    {
     "name": "stdout",
     "output_type": "stream",
     "text": [
      "Eval score stats: idx=46, mean=0.688477, std=0.0\n"
     ]
    },
    {
     "name": "stderr",
     "output_type": "stream",
     "text": [
      " 48%|████▊     | 48/100 [08:16<07:48,  9.01s/it]"
     ]
    },
    {
     "name": "stdout",
     "output_type": "stream",
     "text": [
      "Eval score stats: idx=47, mean=0.54248, std=0.0\n"
     ]
    },
    {
     "name": "stderr",
     "output_type": "stream",
     "text": [
      " 49%|████▉     | 49/100 [08:26<08:00,  9.43s/it]"
     ]
    },
    {
     "name": "stdout",
     "output_type": "stream",
     "text": [
      "Eval score stats: idx=48, mean=0.321777, std=0.0\n"
     ]
    },
    {
     "name": "stderr",
     "output_type": "stream",
     "text": [
      " 50%|█████     | 50/100 [08:35<07:38,  9.17s/it]"
     ]
    },
    {
     "name": "stdout",
     "output_type": "stream",
     "text": [
      "Eval score stats: idx=49, mean=0.594727, std=0.0\n"
     ]
    },
    {
     "name": "stderr",
     "output_type": "stream",
     "text": [
      " 51%|█████     | 51/100 [08:45<07:42,  9.44s/it]"
     ]
    },
    {
     "name": "stdout",
     "output_type": "stream",
     "text": [
      "Eval score stats: idx=50, mean=0.687012, std=0.0\n"
     ]
    },
    {
     "name": "stderr",
     "output_type": "stream",
     "text": [
      " 52%|█████▏    | 52/100 [08:53<07:09,  8.95s/it]"
     ]
    },
    {
     "name": "stdout",
     "output_type": "stream",
     "text": [
      "Eval score stats: idx=51, mean=0.694824, std=0.0\n"
     ]
    },
    {
     "name": "stderr",
     "output_type": "stream",
     "text": [
      " 53%|█████▎    | 53/100 [09:04<07:28,  9.54s/it]"
     ]
    },
    {
     "name": "stdout",
     "output_type": "stream",
     "text": [
      "Eval score stats: idx=52, mean=0.708984, std=0.0\n"
     ]
    },
    {
     "name": "stderr",
     "output_type": "stream",
     "text": [
      " 54%|█████▍    | 54/100 [09:12<06:56,  9.05s/it]"
     ]
    },
    {
     "name": "stdout",
     "output_type": "stream",
     "text": [
      "Eval score stats: idx=53, mean=0.393311, std=0.0\n"
     ]
    },
    {
     "name": "stderr",
     "output_type": "stream",
     "text": [
      " 55%|█████▌    | 55/100 [09:19<06:30,  8.69s/it]"
     ]
    },
    {
     "name": "stdout",
     "output_type": "stream",
     "text": [
      "Eval score stats: idx=54, mean=0.59668, std=0.0\n"
     ]
    },
    {
     "name": "stderr",
     "output_type": "stream",
     "text": [
      " 56%|█████▌    | 56/100 [09:29<06:38,  9.05s/it]"
     ]
    },
    {
     "name": "stdout",
     "output_type": "stream",
     "text": [
      "Eval score stats: idx=55, mean=0.55957, std=0.0\n"
     ]
    },
    {
     "name": "stderr",
     "output_type": "stream",
     "text": [
      " 57%|█████▋    | 57/100 [09:39<06:37,  9.24s/it]"
     ]
    },
    {
     "name": "stdout",
     "output_type": "stream",
     "text": [
      "Eval score stats: idx=56, mean=0.617676, std=0.0\n"
     ]
    },
    {
     "name": "stderr",
     "output_type": "stream",
     "text": [
      " 58%|█████▊    | 58/100 [09:47<06:11,  8.84s/it]"
     ]
    },
    {
     "name": "stdout",
     "output_type": "stream",
     "text": [
      "Eval score stats: idx=57, mean=0.673828, std=0.0\n"
     ]
    },
    {
     "name": "stderr",
     "output_type": "stream",
     "text": [
      " 59%|█████▉    | 59/100 [09:55<05:48,  8.50s/it]"
     ]
    },
    {
     "name": "stdout",
     "output_type": "stream",
     "text": [
      "Eval score stats: idx=58, mean=0.683594, std=0.0\n"
     ]
    },
    {
     "name": "stderr",
     "output_type": "stream",
     "text": [
      " 60%|██████    | 60/100 [10:03<05:37,  8.44s/it]"
     ]
    },
    {
     "name": "stdout",
     "output_type": "stream",
     "text": [
      "Eval score stats: idx=59, mean=0.630371, std=0.0\n"
     ]
    },
    {
     "name": "stderr",
     "output_type": "stream",
     "text": [
      " 61%|██████    | 61/100 [10:13<05:45,  8.85s/it]"
     ]
    },
    {
     "name": "stdout",
     "output_type": "stream",
     "text": [
      "Eval score stats: idx=60, mean=0.511719, std=0.0\n"
     ]
    },
    {
     "name": "stderr",
     "output_type": "stream",
     "text": [
      " 62%|██████▏   | 62/100 [10:23<05:49,  9.20s/it]"
     ]
    },
    {
     "name": "stdout",
     "output_type": "stream",
     "text": [
      "Eval score stats: idx=61, mean=0.314697, std=0.0\n"
     ]
    },
    {
     "name": "stderr",
     "output_type": "stream",
     "text": [
      " 63%|██████▎   | 63/100 [10:34<06:05,  9.89s/it]"
     ]
    },
    {
     "name": "stdout",
     "output_type": "stream",
     "text": [
      "Eval score stats: idx=62, mean=0.600586, std=0.0\n",
      "Error: 429, {\"error\":{\"grpcCode\":8,\"httpCode\":429,\"message\":\"ai.textGenerationCompletionSessionsCount.count gauge quota limit exceed: allowed 3 requests\",\"httpStatus\":\"Too Many Requests\",\"details\":[]}}\n"
     ]
    },
    {
     "name": "stderr",
     "output_type": "stream",
     "text": [
      " 64%|██████▍   | 64/100 [11:42<16:19, 27.22s/it]"
     ]
    },
    {
     "name": "stdout",
     "output_type": "stream",
     "text": [
      "Eval score stats: idx=63, mean=0.545898, std=0.0\n"
     ]
    },
    {
     "name": "stderr",
     "output_type": "stream",
     "text": [
      " 65%|██████▌   | 65/100 [11:51<12:39, 21.69s/it]"
     ]
    },
    {
     "name": "stdout",
     "output_type": "stream",
     "text": [
      "Eval score stats: idx=64, mean=0.303223, std=0.0\n"
     ]
    },
    {
     "name": "stderr",
     "output_type": "stream",
     "text": [
      " 66%|██████▌   | 66/100 [11:58<09:55, 17.52s/it]"
     ]
    },
    {
     "name": "stdout",
     "output_type": "stream",
     "text": [
      "Eval score stats: idx=65, mean=0.598145, std=0.0\n"
     ]
    },
    {
     "name": "stderr",
     "output_type": "stream",
     "text": [
      " 67%|██████▋   | 67/100 [12:07<08:07, 14.78s/it]"
     ]
    },
    {
     "name": "stdout",
     "output_type": "stream",
     "text": [
      "Eval score stats: idx=66, mean=0.40918, std=0.0\n"
     ]
    },
    {
     "name": "stderr",
     "output_type": "stream",
     "text": [
      " 68%|██████▊   | 68/100 [12:15<06:49, 12.80s/it]"
     ]
    },
    {
     "name": "stdout",
     "output_type": "stream",
     "text": [
      "Eval score stats: idx=67, mean=0.669922, std=0.0\n"
     ]
    },
    {
     "name": "stderr",
     "output_type": "stream",
     "text": [
      " 69%|██████▉   | 69/100 [12:25<06:07, 11.86s/it]"
     ]
    },
    {
     "name": "stdout",
     "output_type": "stream",
     "text": [
      "Eval score stats: idx=68, mean=0.641602, std=0.0\n"
     ]
    },
    {
     "name": "stderr",
     "output_type": "stream",
     "text": [
      " 70%|███████   | 70/100 [12:32<05:19, 10.66s/it]"
     ]
    },
    {
     "name": "stdout",
     "output_type": "stream",
     "text": [
      "Eval score stats: idx=69, mean=0.377686, std=0.0\n"
     ]
    },
    {
     "name": "stderr",
     "output_type": "stream",
     "text": [
      " 71%|███████   | 71/100 [12:41<04:50, 10.02s/it]"
     ]
    },
    {
     "name": "stdout",
     "output_type": "stream",
     "text": [
      "Eval score stats: idx=70, mean=0.506836, std=0.0\n"
     ]
    },
    {
     "name": "stderr",
     "output_type": "stream",
     "text": [
      " 72%|███████▏  | 72/100 [12:49<04:22,  9.38s/it]"
     ]
    },
    {
     "name": "stdout",
     "output_type": "stream",
     "text": [
      "Eval score stats: idx=71, mean=0.752441, std=0.0\n"
     ]
    },
    {
     "name": "stderr",
     "output_type": "stream",
     "text": [
      " 73%|███████▎  | 73/100 [12:58<04:14,  9.43s/it]"
     ]
    },
    {
     "name": "stdout",
     "output_type": "stream",
     "text": [
      "Eval score stats: idx=72, mean=0.588379, std=0.0\n"
     ]
    },
    {
     "name": "stderr",
     "output_type": "stream",
     "text": [
      " 74%|███████▍  | 74/100 [13:07<03:58,  9.18s/it]"
     ]
    },
    {
     "name": "stdout",
     "output_type": "stream",
     "text": [
      "Eval score stats: idx=73, mean=0.589844, std=0.0\n"
     ]
    },
    {
     "name": "stderr",
     "output_type": "stream",
     "text": [
      " 75%|███████▌  | 75/100 [13:16<03:44,  8.99s/it]"
     ]
    },
    {
     "name": "stdout",
     "output_type": "stream",
     "text": [
      "Eval score stats: idx=74, mean=0.708008, std=0.0\n"
     ]
    },
    {
     "name": "stderr",
     "output_type": "stream",
     "text": [
      " 76%|███████▌  | 76/100 [13:24<03:29,  8.71s/it]"
     ]
    },
    {
     "name": "stdout",
     "output_type": "stream",
     "text": [
      "Eval score stats: idx=75, mean=0.526367, std=0.0\n"
     ]
    },
    {
     "name": "stderr",
     "output_type": "stream",
     "text": [
      " 77%|███████▋  | 77/100 [13:36<03:44,  9.76s/it]"
     ]
    },
    {
     "name": "stdout",
     "output_type": "stream",
     "text": [
      "Eval score stats: idx=76, mean=0.484863, std=0.0\n"
     ]
    },
    {
     "name": "stderr",
     "output_type": "stream",
     "text": [
      " 78%|███████▊  | 78/100 [13:46<03:35,  9.78s/it]"
     ]
    },
    {
     "name": "stdout",
     "output_type": "stream",
     "text": [
      "Eval score stats: idx=77, mean=0.591309, std=0.0\n"
     ]
    },
    {
     "name": "stderr",
     "output_type": "stream",
     "text": [
      " 79%|███████▉  | 79/100 [13:54<03:14,  9.27s/it]"
     ]
    },
    {
     "name": "stdout",
     "output_type": "stream",
     "text": [
      "Eval score stats: idx=78, mean=0.646484, std=0.0\n",
      "Error: 429, {\"error\":{\"grpcCode\":8,\"httpCode\":429,\"message\":\"ai.textGenerationCompletionSessionsCount.count gauge quota limit exceed: allowed 3 requests\",\"httpStatus\":\"Too Many Requests\",\"details\":[]}}\n"
     ]
    },
    {
     "name": "stderr",
     "output_type": "stream",
     "text": [
      " 80%|████████  | 80/100 [15:02<08:58, 26.92s/it]"
     ]
    },
    {
     "name": "stdout",
     "output_type": "stream",
     "text": [
      "Eval score stats: idx=79, mean=0.607422, std=0.0\n"
     ]
    },
    {
     "name": "stderr",
     "output_type": "stream",
     "text": [
      " 81%|████████  | 81/100 [15:12<06:56, 21.92s/it]"
     ]
    },
    {
     "name": "stdout",
     "output_type": "stream",
     "text": [
      "Eval score stats: idx=80, mean=0.641602, std=0.0\n"
     ]
    },
    {
     "name": "stderr",
     "output_type": "stream",
     "text": [
      " 82%|████████▏ | 82/100 [15:22<05:27, 18.20s/it]"
     ]
    },
    {
     "name": "stdout",
     "output_type": "stream",
     "text": [
      "Eval score stats: idx=81, mean=0.434082, std=0.0\n"
     ]
    },
    {
     "name": "stderr",
     "output_type": "stream",
     "text": [
      " 83%|████████▎ | 83/100 [15:31<04:25, 15.65s/it]"
     ]
    },
    {
     "name": "stdout",
     "output_type": "stream",
     "text": [
      "Eval score stats: idx=82, mean=0.608398, std=0.0\n",
      "Error: 429, {\"error\":{\"grpcCode\":8,\"httpCode\":429,\"message\":\"ai.textGenerationCompletionSessionsCount.count gauge quota limit exceed: allowed 3 requests\",\"httpStatus\":\"Too Many Requests\",\"details\":[]}}\n"
     ]
    },
    {
     "name": "stderr",
     "output_type": "stream",
     "text": [
      " 84%|████████▍ | 84/100 [16:38<08:17, 31.08s/it]"
     ]
    },
    {
     "name": "stdout",
     "output_type": "stream",
     "text": [
      "Eval score stats: idx=83, mean=0.208008, std=0.0\n"
     ]
    },
    {
     "name": "stderr",
     "output_type": "stream",
     "text": [
      " 85%|████████▌ | 85/100 [16:49<06:13, 24.87s/it]"
     ]
    },
    {
     "name": "stdout",
     "output_type": "stream",
     "text": [
      "Eval score stats: idx=84, mean=0.521484, std=0.0\n"
     ]
    },
    {
     "name": "stderr",
     "output_type": "stream",
     "text": [
      " 86%|████████▌ | 86/100 [16:57<04:36, 19.78s/it]"
     ]
    },
    {
     "name": "stdout",
     "output_type": "stream",
     "text": [
      "Eval score stats: idx=85, mean=0.67627, std=0.0\n"
     ]
    },
    {
     "name": "stderr",
     "output_type": "stream",
     "text": [
      " 87%|████████▋ | 87/100 [17:06<03:37, 16.75s/it]"
     ]
    },
    {
     "name": "stdout",
     "output_type": "stream",
     "text": [
      "Eval score stats: idx=86, mean=0.51709, std=0.0\n"
     ]
    },
    {
     "name": "stderr",
     "output_type": "stream",
     "text": [
      " 88%|████████▊ | 88/100 [17:17<02:57, 14.80s/it]"
     ]
    },
    {
     "name": "stdout",
     "output_type": "stream",
     "text": [
      "Eval score stats: idx=87, mean=0.346191, std=0.0\n"
     ]
    },
    {
     "name": "stderr",
     "output_type": "stream",
     "text": [
      " 89%|████████▉ | 89/100 [17:26<02:26, 13.28s/it]"
     ]
    },
    {
     "name": "stdout",
     "output_type": "stream",
     "text": [
      "Eval score stats: idx=88, mean=0.443359, std=0.0\n"
     ]
    },
    {
     "name": "stderr",
     "output_type": "stream",
     "text": [
      " 90%|█████████ | 90/100 [17:36<02:01, 12.19s/it]"
     ]
    },
    {
     "name": "stdout",
     "output_type": "stream",
     "text": [
      "Eval score stats: idx=89, mean=0.688965, std=0.0\n"
     ]
    },
    {
     "name": "stderr",
     "output_type": "stream",
     "text": [
      " 91%|█████████ | 91/100 [17:46<01:43, 11.53s/it]"
     ]
    },
    {
     "name": "stdout",
     "output_type": "stream",
     "text": [
      "Eval score stats: idx=90, mean=0.610352, std=0.0\n"
     ]
    },
    {
     "name": "stderr",
     "output_type": "stream",
     "text": [
      " 92%|█████████▏| 92/100 [17:55<01:25, 10.63s/it]"
     ]
    },
    {
     "name": "stdout",
     "output_type": "stream",
     "text": [
      "Eval score stats: idx=91, mean=0.489014, std=0.0\n"
     ]
    },
    {
     "name": "stderr",
     "output_type": "stream",
     "text": [
      " 93%|█████████▎| 93/100 [18:02<01:08,  9.78s/it]"
     ]
    },
    {
     "name": "stdout",
     "output_type": "stream",
     "text": [
      "Eval score stats: idx=92, mean=0.616211, std=0.0\n"
     ]
    },
    {
     "name": "stderr",
     "output_type": "stream",
     "text": [
      " 94%|█████████▍| 94/100 [18:12<00:59,  9.90s/it]"
     ]
    },
    {
     "name": "stdout",
     "output_type": "stream",
     "text": [
      "Eval score stats: idx=93, mean=0.493652, std=0.0\n"
     ]
    },
    {
     "name": "stderr",
     "output_type": "stream",
     "text": [
      " 95%|█████████▌| 95/100 [18:21<00:46,  9.37s/it]"
     ]
    },
    {
     "name": "stdout",
     "output_type": "stream",
     "text": [
      "Eval score stats: idx=94, mean=0.628906, std=0.0\n"
     ]
    },
    {
     "name": "stderr",
     "output_type": "stream",
     "text": [
      " 96%|█████████▌| 96/100 [18:29<00:35,  9.00s/it]"
     ]
    },
    {
     "name": "stdout",
     "output_type": "stream",
     "text": [
      "Eval score stats: idx=95, mean=0.644531, std=0.0\n"
     ]
    },
    {
     "name": "stderr",
     "output_type": "stream",
     "text": [
      " 97%|█████████▋| 97/100 [18:39<00:28,  9.46s/it]"
     ]
    },
    {
     "name": "stdout",
     "output_type": "stream",
     "text": [
      "Eval score stats: idx=96, mean=0.432129, std=0.0\n"
     ]
    },
    {
     "name": "stderr",
     "output_type": "stream",
     "text": [
      " 98%|█████████▊| 98/100 [18:48<00:18,  9.13s/it]"
     ]
    },
    {
     "name": "stdout",
     "output_type": "stream",
     "text": [
      "Eval score stats: idx=97, mean=0.642578, std=0.0\n"
     ]
    },
    {
     "name": "stderr",
     "output_type": "stream",
     "text": [
      " 99%|█████████▉| 99/100 [18:55<00:08,  8.63s/it]"
     ]
    },
    {
     "name": "stdout",
     "output_type": "stream",
     "text": [
      "Eval score stats: idx=98, mean=0.662598, std=0.0\n"
     ]
    },
    {
     "name": "stderr",
     "output_type": "stream",
     "text": [
      "100%|██████████| 100/100 [19:04<00:00, 11.44s/it]"
     ]
    },
    {
     "name": "stdout",
     "output_type": "stream",
     "text": [
      "Eval score stats: idx=99, mean=0.550781, std=0.0\n"
     ]
    },
    {
     "name": "stderr",
     "output_type": "stream",
     "text": [
      "\n"
     ]
    }
   ],
   "source": [
    "skip = len(results)\n",
    "print(f\"Skip={skip}\")\n",
    "print(f\"Total data samples={len(test_articles)}\")\n",
    "\n",
    "with open(output_file, 'a') as f:\n",
    "    for idx, sample in enumerate(tqdm(test_articles, position=0)):\n",
    "        if idx < skip:\n",
    "            continue\n",
    "        \n",
    "        # make N generations to statistically estimate the quality\n",
    "        eval_scores = []\n",
    "        summaries = []\n",
    "        for _ in range(n_generations):\n",
    "            article = sample['Text']\n",
    "\n",
    "            try:\n",
    "                summary = generation_fn(article)\n",
    "                eval_score = eval_metric_model(article, summary)\n",
    "            except AssertionError as e:\n",
    "                print(e)\n",
    "                time.sleep(60)\n",
    "                summary = generation_fn(article)\n",
    "                eval_score = eval_metric_model(article, summary)\n",
    "\n",
    "            eval_scores.append(eval_score)\n",
    "            summaries.append(summary)\n",
    "            time.sleep(sleep_time)\n",
    "\n",
    "        # calculate mean and std\n",
    "        mean = np.mean(eval_scores)\n",
    "        std = np.std(eval_scores)\n",
    "\n",
    "        result = {\n",
    "            'idx': idx,\n",
    "            'id': sample.get('id', None),\n",
    "            'eval_scores': eval_scores,\n",
    "            'summaries': summaries,\n",
    "            'mean': mean,\n",
    "            'std': std,\n",
    "        }\n",
    "\n",
    "        f.write(json.dumps(result, ensure_ascii=False, indent=2) + '\\n')\n",
    "        f.flush()\n",
    "\n",
    "        results.append(result)\n",
    "\n",
    "        # print(f\"Eval score stats: {idx=}, {mean=}, {std=}\")"
   ]
  },
  {
   "cell_type": "code",
   "execution_count": 10,
   "metadata": {},
   "outputs": [
    {
     "data": {
      "text/plain": [
       "[{'idx': 0,\n",
       "  'id': 1,\n",
       "  'eval_scores': [0.458984],\n",
       "  'summaries': ['Интервью с главой ЦМИТ Иваном Мошкиным о его компании LAB3DPrint. LAB3DPrint предоставляет обучение в области 3D-моделирования, 3D-печати, робототехники и 2D-черчения. Компания использует современное оборудование для производства 3D-прототипов и лазерной резки. В прошлом году компания начала поставки 3D-принтеров Raise3D в Россию. Иван Мошкин, создатель и руководитель LAB3DPrint, обсудил впечатления о модели Raise3D N2 Plus Dual. Преимущества принтера включают наличие собственной аккумуляторной батареи, тихую работу и возможность изменения параметров печати во время печати. LAB3DPrint использует Raise3D N2 Plus Dual для прототипирования крупных моделей и изготовления протезов, ортезов и медицинских изделий. Компания предлагает курсы по 3D-прототипированию, 3D-печати, лазерному сканированию и инженерному дизайну CAD. LAB3DPrint также предлагает 10 преимуществ для своих клиентов, включая Trade In, гарантию, техническую поддержку, бесплатную доставку, бесплатное обучение и возможность покупки в кредит.'],\n",
       "  'mean': 0.458984,\n",
       "  'std': 0.0},\n",
       " {'idx': 1,\n",
       "  'id': 2,\n",
       "  'eval_scores': [0.385986],\n",
       "  'summaries': ['Функция zip позволяет итерировать несколько итерируемых объектов одновременно. Генератор можно остановить явным вызовом g.close(), но сборщик мусора обычно делает это за вас. Вы не можете продолжать генерировать значения при обработке GeneratorExit. Если генератор ещё не запущен, исключение не будет брошено, но генератор перейдет в состояние \"остановлен\". close ничего не делает, если генератор уже закончил работу. f-строки позволяют задавать ширину выводимого значения и другие форматирующие спецификаторы. Если ваш класс является производным от другого, метакласс вашего класса тоже должен быть производным от метакласса того класса. Может быть целесообразно автоматически получать метакласс другого класса.'],\n",
       "  'mean': 0.385986,\n",
       "  'std': 0.0},\n",
       " {'idx': 2,\n",
       "  'id': 3,\n",
       "  'eval_scores': [0.600586],\n",
       "  'summaries': ['Владислав Улендеев, исполнительный директор eHouse, раскрывает детали сделки с Rambler Media о продаже 51% акций Damochka.Ru и BannerBank. Сделка не предполагает избавления от непрофильных активов, а направлена на развитие проектов. Холдинг будет состоять из eHouse и Rambler, с совместным управлением и использованием трафика. eHouse использует технологию \"БаннерБанк\" для рекламы своих проектов, но планирует делиться трафиком с Rambler. eHouse планирует выпустить технологию \"БаннерБанк\" на рынок в ближайшее время. eHouse не является конкурентом \"Мамбы\" и строит сообщество, а не сайт знакомств. eHouse не планирует публиковаться финансовые отчеты до выхода на биржу. eHouse планирует стать публичной компанией с группой инвестиционных компаний и нишевых игроков. eHouse и Rambler являются стратегическими партнерами, с долгосрочным партнерством.'],\n",
       "  'mean': 0.600586,\n",
       "  'std': 0.0},\n",
       " {'idx': 3,\n",
       "  'id': 4,\n",
       "  'eval_scores': [0.493652],\n",
       "  'summaries': ['Уникальный стабилизатор Штиль Инстаб 500 разработан для проекта Lamptest.ru. Стабилизатор выдает стабильное переменное напряжение 230 В с точностью ±0.6 В. Выходное напряжение не зависит от входного, что делает его идеальным для сетей с низким качеством напряжения. Стабилизаторы Штиль работают по принципу двойного преобразования, что обеспечивает абсолютную стабильность выходного напряжения. КПД стабилизатора составляет 96%, а коэффициент нелинейных искажений при линейной нагрузке - 1.5%. Стабилизатор является \"улучшителем\" коэффициента мощности, независимо от коэффициента мощности нагрузки. Штиль производит стабилизаторы с выходным напряжением 220 В и планирует наладить выпуск стабилизаторов с возможностью выбора выходного напряжения 220/230 В. Стабилизаторы Штиль разработаны и производятся в России на заводе в Туле.'],\n",
       "  'mean': 0.493652,\n",
       "  'std': 0.0},\n",
       " {'idx': 4,\n",
       "  'id': 5,\n",
       "  'eval_scores': [0.640625],\n",
       "  'summaries': ['Google AdWords основывается на принципах аукциона, но повышение показателя качества (Quality Score) может привести к экономии и увеличению посетителей на сайт. Высокий показатель качества позволяет опередить конкурентов и получить больше с каждого рекламного доллара. Не показывайте объявления, по которым не будут кликать, так как это может снизить показатель качества и увеличить стоимость повторного запуска. Разделяйте и властвуйте, используя разные ключевые слова в одной группе объявлений, чтобы улучшить результат. Избавьтесь от ключевых слов, которые не работают, и выбирайте слова, которые будут наиболее частными в нише. На целевой странице и сайте должен быть нормальный контент, включая полезную информацию и разнообразное содержимое. Предоставьте пользователям выбор, призывая их к конкретным действиям на целевой странице. Расскажите о себе, предоставив информацию о компании и правилах использования личных данных. Сделайте так, чтобы страницы загружались быстрее, чтобы пользователи не разочаровались.'],\n",
       "  'mean': 0.640625,\n",
       "  'std': 0.0},\n",
       " {'idx': 5,\n",
       "  'id': 6,\n",
       "  'eval_scores': [0.619141],\n",
       "  'summaries': ['IoT может быть применен в различных отраслях, включая мусорные контейнеры и мусоровозы. Анатолий Коровин работал над проектом \"Умный мусоровоз\", который включал датчики, GPS-трекеры и RFID-метки. Цель проекта - контроль добросовестности перевозчиков и утилизация мусора. IoT-система позволила автоматизировать мусорные баки, транспорт перевозчика и мусорные полигоны. Умные мусорные баки оснащены датчиками уровня заполненности, температуры и акселерометром. Для контроля транспорта использовались GPS-трекеры и RFID-считыватели. На въезде и выезде мусорных полигонов установлены весовые стенды для контроля утилизации мусора. IoT-система улучшила маршруты перевозчиков и оптимизировала утилизацию мусора.'],\n",
       "  'mean': 0.619141,\n",
       "  'std': 0.0},\n",
       " {'idx': 6,\n",
       "  'id': 7,\n",
       "  'eval_scores': [0.649902],\n",
       "  'summaries': ['Visual Studio Code повлиял на экосистему разработчиков и дал жизнь Language Server Protocol (LSP). LSP - это способ общения с языковыми серверами, которые принимают мета-состояние редактора и возвращают набор действий. LSP можно рассматривать как урезанную модификацию HTTP, взаимодействующую только по JSON-RPC протоколу. LSP обеспечивает поддержку автозавершения и IntelliSense для различных языков, таких как C, Python, Java и т.д. LSP использует JSON-RPC для связи с удаленным сервером, используя формат Content-Length и два CRLF токена. С введением LSP, Microsoft свела проблему M x N к проблеме M + N, что упрощает интеграцию языковых серверов в редакторы кода. Разработчики могут выбирать редактор на свой вкус, без привязки к конкретному языку, и LSP можно внедрить в JavaScript для поддержки IntelliSense в браузере.'],\n",
       "  'mean': 0.649902,\n",
       "  'std': 0.0},\n",
       " {'idx': 7,\n",
       "  'id': 8,\n",
       "  'eval_scores': [0.483643],\n",
       "  'summaries': ['Студенты могут начать работать в лабораториях Университета ИТМО еще во время обучения в магистратуре. Студенты с первых дней погружаются в научно-исследовательские и опытно-конструкторские разработки по заказу индустриальных партнеров. Студенты могут трудиться практически без отрыва от учебы, проекты часто становятся частью выпускной или курсовой работы. Многие выпускники решают строить свою карьеру в лабораториях Университета ИТМО. Студенты могут практиковаться не только в университетских структурах, но и в компаниях, сотрудничающих с кафедрами «Национального центра когнитивных разработок». Возможности для студентов есть и на внутреннем, и на международном рынке труда. Работа в сторонних организациях помогает выпускникам устроиться на работу в ведущие российские компании. Некоторые выпускники находят работу за рубежом, например, в немецкой компании HelloFresh.'],\n",
       "  'mean': 0.483643,\n",
       "  'std': 0.0},\n",
       " {'idx': 8,\n",
       "  'id': 9,\n",
       "  'eval_scores': [0.652344],\n",
       "  'summaries': ['Статья о получении виртуальной машины в облаке бесплатно и надолго. Многие провайдеры облачных вычислений предоставляют бесплатные \"пробники\" на определенный период. В статье рассматриваются провайдеры Google, Microsoft, HP и другие. Обладая уровнем паранойи выше среднего, автор статьи решил пользоваться виртуальной картой одной известной платежной системы. Microsoft Azure требует подтверждения аккаунта через SMS, но автор нашел способ обойти это. Google cloud предоставляет 300$ и 60 дней бесплатного использования. Автор столкнулся с проблемами при развертывании проекта внутри инстанса, но решил перейти на юниксовый инстанс. Облачный бесплатный хостинг имеет право на жизнь, особенно для тестовых целей.'],\n",
       "  'mean': 0.652344,\n",
       "  'std': 0.0},\n",
       " {'idx': 9,\n",
       "  'id': 10,\n",
       "  'eval_scores': [0.657227],\n",
       "  'summaries': ['BrandMaker-Russia предоставляет возможность протестировать модуль \"Медиа Ресурсы\" перед покупкой. В ходе тестирования пользователи самостоятельно оценивают изменения в бизнес-процессах и экономию временных и финансовых ресурсов. Результаты тестирования модуля \"Медиа Ресурсы\" для банка с федеральной сетью. Экономия времени на разработку рекламных материалов для продуктов/услуг банка. Проблемы с пересылкой макетов и их адаптацией на местах. Модуль \"Медиа Ресурсы\" позволяет дизайнеру загружать макет непосредственно в систему, что упрощает процесс работы с ним. В феврале 2012 планируется протестировать еще два кейса по применению BrandMaker.'],\n",
       "  'mean': 0.657227,\n",
       "  'std': 0.0},\n",
       " {'idx': 10,\n",
       "  'id': 11,\n",
       "  'eval_scores': [0.401123],\n",
       "  'summaries': ['В статье рассматривается разработка системного журнала ядра для Unix-подобной операционной системы. Для этого используются функции для работы со строками, отладки, видеопамяти, динамической памяти и организации памяти. Также представлены функции для работы с портами ввода-вывода, прерываниями, планировщиком, многозадачностью и файловой системой ядра. Для отладки ядра используются функции kpanic, kassert и kunreachable. Для управления выводом на экран используется функция kmode. Для чтения системного журнала в буфер используется функция klog. В статье также представлены функции для работы с видеобуфером и прокруткой экрана.'],\n",
       "  'mean': 0.401123,\n",
       "  'std': 0.0},\n",
       " {'idx': 11,\n",
       "  'id': 12,\n",
       "  'eval_scores': [0.412842],\n",
       "  'summaries': ['Pythonista - программа для написания кода и запуска программ на iPad или iPhone. Pythonista является лучшим компилятором для Python и не требует интернет-подключения. Программа имеет всплывающие подсказки и встроенную документацию. Pythonista позволяет экспортировать проекты в XCode. Программа ориентирована на Python 2.7, но поддерживает некоторые функции из Python 3. В Pythonista есть несколько библиотек для разработки приложений для iOS, включая библиотеку ui для графического интерфейса. Примеры работы с библиотекой ui показывают, как задавать графический интерфейс программно или нативно. Pythonista предоставляет множество функций и возможностей для работы с iOS устройствами.'],\n",
       "  'mean': 0.412842,\n",
       "  'std': 0.0},\n",
       " {'idx': 12,\n",
       "  'id': 13,\n",
       "  'eval_scores': [0.572266],\n",
       "  'summaries': ['Курсы Nature of Vex и Bites of Python от Mix Training посвящены работе с языками Python и Vex в Houdini. Vex - язык, используемый для написания шейдеров в рендере Mantra, но также используется для манипуляций с геометрией и процедурного создания геометрии. Python используется для управления программой Houdini, создания красивых интерфейсов и манипуляции геометрией. Курсы предоставляют информацию о Vex и Python, а также о Houdini в целом. Курсы могут быть полезны для специалистов разного уровня, так как охватывают широкий спектр тем. Курсы не содержат готовых решений для реального продакшена, но предоставляют информацию для ознакомления. Автор курсов делает ошибки и тратит время на спонтанные решения, что может вызывать вопросы у начинающих пользователей. Курсы могут быть хорошим дополнением к другим обучающим материалам и ресурсам.'],\n",
       "  'mean': 0.572266,\n",
       "  'std': 0.0},\n",
       " {'idx': 13,\n",
       "  'id': 14,\n",
       "  'eval_scores': [0.60791],\n",
       "  'summaries': ['Новые технологии сначала появляются в американском ритейле, затем в российском. Французский ритейл отличается от европейского, где ИТ в ритейле развиты слабее. Автор посетил выставку в Париже и изучил разработки французских компаний. Умные полки, автоматическая касса и умная витрина - примеры французских разработок. Умные полки не справляются с распознаванием товаров, автоматическая касса не всегда распознает продукцию, а умная витрина не всегда отображает нужную информацию. Российский ритейл быстрее подхватывает новые технологии и внедряет их, в то время как французский ритейл консервативен. Российский потребитель более избалован и готов к инновациям, в то время как французский потребитель менее требователен.'],\n",
       "  'mean': 0.60791,\n",
       "  'std': 0.0},\n",
       " {'idx': 14,\n",
       "  'id': 15,\n",
       "  'eval_scores': [0.604492],\n",
       "  'summaries': ['MediaTek построила новый центр обработки данных в своей штаб-квартире. Проект должен был быть реализован в кратчайшие сроки и обеспечить совместимость нового решения со всем существующим оборудованием. Средства электропитания и охлаждения должны были быть адаптированы к условиям здания. От CIO компании поступил запрос на технологии автоматизации и мониторинга ЦОД. Заказчик приветствовал внедрение энергоэффективных решений в области охлаждения и энергоснабжения. Большая нагрузка: планировалось установить 80 стоек, некоторые подразумевали размещение нагрузки в 25 кВт. Зона высокой нагрузки была отделена, а для охлаждения и электропитания в ней были установлены наиболее мощные и технологичные системы. Зона со средней плотностью размещения располагалась отдельно, здесь удалось создать более длинный \"горячий коридор\". Симуляция движения воздуха помогла найти оптимальные точки для размещения внутрирядных кондиционеров RowCool. Были спроектированы и установлены модульные системы разделения нагрузки для обеих зон. В ЦОД были реализованы системы управления работой оборудования через систему DCIM InfraSuite. Практика построения ЦОД для MediaTek была интересна тем, что нам пришлось разместить много высокопроизводительной нагрузки на достаточно небольшой площади.'],\n",
       "  'mean': 0.604492,\n",
       "  'std': 0.0},\n",
       " {'idx': 15,\n",
       "  'id': 16,\n",
       "  'eval_scores': [0.620605],\n",
       "  'summaries': ['Аварийное восстановление ИТ-инфраструктуры после сбоя или атаки. Увеличение количества кибератак и вероятность крупных утечек данных. Репутационные риски для компаний, столкнувшихся с утечками данных. Актуальность и важность внедрения систем информационной безопасности. Отличия между бэкапами и решениями Disaster Recovery. Частота копирования данных и актуальность данных в бэкапах и системах Disaster Recovery. Отказоустойчивость и повышение безопасности инфраструктуры с помощью Disaster Recovery. Регулярная оценка работоспособности бэкапов и инфраструктуры на резервных площадках. Практики graceful degradation для повышения надежности инфраструктуры.'],\n",
       "  'mean': 0.620605,\n",
       "  'std': 0.0},\n",
       " {'idx': 16,\n",
       "  'id': 17,\n",
       "  'eval_scores': [0.611328],\n",
       "  'summaries': ['Автор статьи делится своим опытом продвижения приложений для Android Market. Он считает, что обновления приложений должны быть регулярными и содержать новые функции и контент. Апдейты должны попадать в категорию \"Just in\", что положительно влияет на количество закачек. Автор рекомендует использовать Google Checkout для внутренних платежей, так как это выгодная модель. Сбор статистики в приложениях важен, но автор пока довольствуется ограниченным набором параметров. Работа с сайтами обзоров и каталогами может быть полезной, но автор не видит явного лидера. Автор также работал с рекламными сетками, такими как Tapjoy, Mdotm и Smaato, и использовал AdMob и Mobclix для контекстной рекламы. В конце автор подчеркивает, что разработка под Android интересна и выгодна, и предлагает не бояться экспериментировать и не останавливаться на достигнутом.'],\n",
       "  'mean': 0.611328,\n",
       "  'std': 0.0},\n",
       " {'idx': 17,\n",
       "  'id': 18,\n",
       "  'eval_scores': [0.62793],\n",
       "  'summaries': ['Go 1.20 поддерживает экспериментальное решение для управления памятью с использованием Memory Arena. Memory Arena позволяет выделить динамическую память и уменьшить влияние управления памятью на производительность приложения. Для использования Memory Arena необходимо добавить переменную окружения GOEXPERIMENT=arenas. Для выделения памяти в Memory Arena используется модуль arena. При использовании арены необходимо следить за ошибками и использовать механизмы профилирования для обнаружения утечек памяти. Повышение производительности возможно при интенсивном выделении памяти и долгоживущих структурах данных.'],\n",
       "  'mean': 0.62793,\n",
       "  'std': 0.0},\n",
       " {'idx': 18,\n",
       "  'id': 19,\n",
       "  'eval_scores': [0.583008],\n",
       "  'summaries': ['Проблема: запуск Selenium тестов на заднем плане в Ubuntu. Главная проблема: активное окно веб-драйвера мешает работе. Решение: использование vncserver для запуска тестов на заднем плане. Установка vncserver и запуск сервера. Подключение к серверу с помощью vncviewer. Запуск тестов без активного окна веб-драйвера. Возможность работы с IDE в vncviewer. Улучшение подхода: отключение скриншотов на каждый шаг тестов.'],\n",
       "  'mean': 0.583008,\n",
       "  'std': 0.0},\n",
       " {'idx': 19,\n",
       "  'id': 20,\n",
       "  'eval_scores': [0.575684],\n",
       "  'summaries': ['StyleCop - статический анализатор C кода на соответствие стилю. Инструмент не получил широкую популярность из-за большого количества ошибок по умолчанию. Стиль кодирования может быть единым для всех или выбираться командой. Jason Allor, создатель StyleCop, придерживается позиции единых правил стиля. Плагин StyleCop+ предлагает широкий спектр возможных проверок для настройки собственного стиля. Advanced Naming Rules позволяют настроить систему именования объектов. More Custom Rules содержат дополнительные правила для проверки стиля. Extended Original Rules содержат правила, \"паразитирующие\" на оригинальных правилах StyleCop. Рекомендуется использовать StyleCop и его плагин StyleCop+ для контроля стиля кодирования.'],\n",
       "  'mean': 0.575684,\n",
       "  'std': 0.0},\n",
       " {'idx': 20,\n",
       "  'id': 21,\n",
       "  'eval_scores': [0.543457],\n",
       "  'summaries': ['Gartner включил HP в число \"провидцев\" в \"Магическом квадранте\" по сетевой инфраструктуре ЦОД. Требования к сетевой инфраструктуре ЦОД быстро меняются, и надежность остается важным критерием. Сети ЦОД должны быть упрощены, увязаны с задачами бизнеса и программируемыми. Сети ЦОД должны адаптироваться к изменению масштаба дата-центра и характера нагрузок. Открытые стандарты необходимы для совместимости оборудования и упрощения инноваций. Увеличиваются требования к пропускной способности и задержке в сети. Конвергентная инфраструктура, референсные архитектуры и интегрированные системы становятся популярными. HP занимает второе место среди ведущих игроков мирового рынка сетевой инфраструктуры ЦОД.'],\n",
       "  'mean': 0.543457,\n",
       "  'std': 0.0},\n",
       " {'idx': 21,\n",
       "  'id': 22,\n",
       "  'eval_scores': [0.620117],\n",
       "  'summaries': ['Kauri разрабатывает оборудование для IoT-решений и пишет под него софт. Разрабатывали датчики для умного дома, включая протечки, задымления, проникновения, движения, разбитие стекол, температуру, расход газа/воды, потребляемую мощность, влажность. Выбирали датчики по стоимости, доступности в России, энергоэффективности, надежности и простоте подключения. Обращали внимание на элементную базу и ZigBee SoC, выбирали между Texas Instruments и Silicon Labs. Обращались к дистрибьюторам Silicon Labs для заключения партнерского соглашения и получения тестовых образцов. Создавали собственный модульный Kauri-контроллер для работы с различными стандартами связи. Выбирали корпус контроллера, отталкиваясь от сферы эксплуатации (улица, дом, помещение, герметичное устройство). Использовали элементную базу иностранного производства, так как подходящих компонентов в России не делают.'],\n",
       "  'mean': 0.620117,\n",
       "  'std': 0.0},\n",
       " {'idx': 22,\n",
       "  'id': 24,\n",
       "  'eval_scores': [0.605469],\n",
       "  'summaries': ['Редактор сценариев Age of Empires 2 позволяет создавать триггеры для выполнения действий на основе условий. Триггеры должны удовлетворять требованиям машины Тьюринга, включая считывание и запись символов, изменение позиции в памяти, наличие ленты или памяти и пула используемых символов. Примеры триггеров включают использование пула символов для хранения игровых юнитов и пула памяти для всех типов юнитов в игре. Триггеры можно настроить на автоматическое срабатывание при запуске игры или на постоянное срабатывание для организации бесконечного цикла. Редактор сценариев также предоставляет доступ к логике высказываний для создания условий и выражений. Триггеры могут быть использованы для реализации операций \"AND\", \"OR\" и \"XOR\", а также сложения и вычитания. Для проверки на равенство можно использовать специальные символы, такие как \"останова\" (король). Создание машины Тьюринга требует \"бесконечной\" памяти, но можно создать произвольное количество юнитов для решения этой проблемы.'],\n",
       "  'mean': 0.605469,\n",
       "  'std': 0.0},\n",
       " {'idx': 23,\n",
       "  'id': 26,\n",
       "  'eval_scores': [0.510254],\n",
       "  'summaries': ['Высоконагруженные системы имеют разные типы нагрузки: RPS и гигабитный трафик. ivi.ru сталкивается с обоими типами нагрузки. В 2011 году рунет начал смотреть бесплатное кино, что вызвало рост нагрузки. Решение использовать CDN для доставки контента. CDN позволяет снизить затраты на серверную мощность и каналы связи. Использование CDN может быть дешевле, чем строительство собственного. ivi.ru использует CDN для доставки контента по всей территории России. Развертывание собственного CDN заняло сжатые сроки. В результате, узлы ivi.ru присутствуют в 23 городах России. Развертывание нового узла занимает один рабочий день. Размеры узлов колеблются от одного до восьми серверов. Для повышения эффективности рекомендуется иметь один большой кластер. Без сомнения, это не могло не сказаться на качестве обслуживания абонентов.'],\n",
       "  'mean': 0.510254,\n",
       "  'std': 0.0},\n",
       " {'idx': 24,\n",
       "  'id': 28,\n",
       "  'eval_scores': [0.650879],\n",
       "  'summaries': ['GitHub стремится к высокой производительности и использует метрики для мониторинга и анализа производительности. statsd - агрегатор метрик, написанный на Node.js, используется для сбора и обработки метрик. Проблемы с statsd возникают при росте количества серверов и метрик, отправляемых в агрегатор. GitHub решает проблему с помощью своего парсера UDP пакетов и балансировки по названию метрики. Brubeck - новый агрегатор метрик, написанный на чистом С с использованием libuv. Brubeck использует пул потоков воркеров и lock-free алгоритмы для синхронизации доступа к данным. Простая многопоточная архитектура позволяет обрабатывать 4.3 миллиона метрик в секунду без потери пакетов. Brubeck был выложен в open-source и активно разрабатывается сообществом.'],\n",
       "  'mean': 0.650879,\n",
       "  'std': 0.0},\n",
       " {'idx': 25,\n",
       "  'id': 29,\n",
       "  'eval_scores': [0.329102],\n",
       "  'summaries': ['Гекконы - обитатели тропических и субтропических областей Старого и Нового Света. У гекконов есть одна особенность - они умеют удерживаться практически на любой поверхности. Вес тела животного удерживает даже одна лапа. На способность геккона крепко держаться за что угодно обращали внимание еще древние греки. Присоски на пальцах - одно из первых объяснений, которое выглядело вполне логичным. Электростатика - еще одно правдоподобное объяснение, которое удалось опровергнуть. Канадский ученый Александр Пенлидис считает, что этот эксперимент был некорректным. Лапа геккона покрыта чрезвычайно тонкими щетинками, длина которых составляет до сотни микрометров. Американские ученые выяснили, что сила сцепления лапы геккона токи составляет 10 Ньютон на 1 см2.'],\n",
       "  'mean': 0.329102,\n",
       "  'std': 0.0},\n",
       " {'idx': 26,\n",
       "  'id': 30,\n",
       "  'eval_scores': [0.652832],\n",
       "  'summaries': ['Lenovo вышла в лидеры рынка производителей оборудования для дата-центров в 2014 году. В 2017 году компания представила две новые торговые марки оборудования для ЦОД - ThinkSystem и ThinkAgile. Lenovo планирует наращивать свою долю на мировом рынке серверов на x86-архитектуре. Компания работает с традиционными инфраструктурными решениями для дата-центров, а также с программно-определяемой инфраструктурой и гипермасштабируемой инфраструктурой. Lenovo предлагает широкий спектр решений для дата-центров и обеспечивает комплексную сервисную поддержку. Компания уделяет большое внимание клиентскому опыту и скорости поставок, а также сервису и надежности оборудования. Lenovo Global Technology выделилась в отдельную вертикаль внутри компании, что позволяет сфокусироваться на предоставлении оптимальных решений и услуг для дата-центров.'],\n",
       "  'mean': 0.652832,\n",
       "  'std': 0.0},\n",
       " {'idx': 27,\n",
       "  'id': 31,\n",
       "  'eval_scores': [0.559082],\n",
       "  'summaries': ['Ученые из ИТМО создали динамическую наноструктуру, меняющую оптические свойства при внешнем воздействии. Основа материала - полимер, который может сжиматься и разжиматься в зависимости от температуры. Наноструктуры с наночастицами кремния усиливают свет в семь раз, а в сочетании с золотом этот результат улучшается до 35 раз. Потенциально такие материалы можно использовать для разработки интеллектуальных автоматических термочувствительных детекторов и в других роботизированных устройствах. Работа выполнена за счёт гранта Российского научного фонда. Результаты исследования опубликованы в журнале Advanced Optical Materials. Наноструктуры могут менять свое состояние неограниченное количество раз. В основе наноструктуры лежат синтезированные гидрогелевые сферические частицы из поли(N-изопропилакриламида) (pNIPAM).'],\n",
       "  'mean': 0.559082,\n",
       "  'std': 0.0},\n",
       " {'idx': 28,\n",
       "  'id': 32,\n",
       "  'eval_scores': [0.611816],\n",
       "  'summaries': ['Новые техпроцессы для производства микросхем откладываются из-за удорожания оборудования и высокого уровня брака. Intel и GlobalFoundries приостановили разработку 7- и 10-нанометровых чипов соответственно. Причины отмены техпроцессов: дороговизна перехода, низкий выход годных процессоров, ошибки и их цена. Уменьшение техпроцессов необходимо для эффективной работы систем ИИ, МО, 5G-сетей и IoT. Новые техпроцессы разрабатываются, но их выпуск может быть отложен из-за проблем с EUV-литографией. В будущем ожидается применение техпроцессов менее 5-нм, включая 3- и 2-нм.'],\n",
       "  'mean': 0.611816,\n",
       "  'std': 0.0},\n",
       " {'idx': 29,\n",
       "  'id': 33,\n",
       "  'eval_scores': [0.55957],\n",
       "  'summaries': ['Тестирование производительности Python 2.7 при обработке списков различными способами. 24 теста, показывающие интересные результаты. Обработка списка в классе с использованием вызовов методов или внешней функции. Сравнение производительности для разных способов обработки списка. Генераторы без вызова внешних функций и использование локальных переменных являются самыми быстрыми. Использование глобальных переменных увеличивает время работы на 5%. Обработка списка перебором в цикле for медленнее на 23% с использованием локальных переменных и на 27% с использованием глобальных переменных. Использование внешней локальной или глобальной функции в цикле for медленнее более чем на 60%. Использование map в качестве функции обработки элементов списка аналогично вызову внешней функции в генераторе. Обработка списка в классе с использованием вызова метода класса и добавлением значения аттрибута является самым медленным способом. Код доступен по адресу http://pastebin.com/rgdXNdXb.'],\n",
       "  'mean': 0.55957,\n",
       "  'std': 0.0},\n",
       " {'idx': 30,\n",
       "  'id': 34,\n",
       "  'eval_scores': [0.488281],\n",
       "  'summaries': ['Робомобили имеют проблемы с обнаружением велосипедов, которые являются легкими, тихими и юркими средствами передвижения. Точность обнаружения автомобилей в последние годы превзошла точность обнаружения велосипедов. Большая часть улучшений происходила при обучении систем, в которых они изучали тысячи фотографий с промаркированными объектами. Алгоритм Deep3DBox, недавно представленный исследователями из Университета им. Джорджа Мейсона и разработчиком роботакси Zoox, определяет 89% автомобилей, но только 74% велосипедов. Коммерческие системы лучше справляются с задачей обнаружения и ориентации велосипедов, когда разработчики получают доступ к огромным наборам изображений. Трехмерные карты высокой детализации помогают компьютеру распознавать велосипеды, так как они выглядят как аномалии на предварительно записанных изображениях дороги. Распознавание велосипедистов уже начинают ставить в качестве дополнения к коммерческой системе автоматического торможения (AEB). Предсказание направления движения движущихся объектов является сложной задачей для разработчиков.'],\n",
       "  'mean': 0.488281,\n",
       "  'std': 0.0},\n",
       " {'idx': 31,\n",
       "  'id': 35,\n",
       "  'eval_scores': [0.677734],\n",
       "  'summaries': ['Звезда в созвездии Рыб RZ Piscium имеет странные изменения светимости, вызванные газопылевыми облаками. Эти облака могут быть результатом разрушения планет на различных орбитах. Ученые считают, что пыль и газ являются основными причинами динамики светимости звезды. Звезда RZ Piscium находится в 550 световых годах от Земли и излучает больше энергии в инфракрасном диапазоне. Ученые наблюдают за звездой с помощью спутника XMM-Newton и других телескопов. Температура верхних слоев звезды составляет около 5300 градусов Цельсия, что меньше, чем у Солнца. Возраст звезды оценивается от 30 до 50 миллионов лет, что делает ее молодой. Есть предположение, что звезда уничтожает планеты-газовые гиганты, создавая газопылевые облака.'],\n",
       "  'mean': 0.677734,\n",
       "  'std': 0.0},\n",
       " {'idx': 32,\n",
       "  'id': 37,\n",
       "  'eval_scores': [0.604004],\n",
       "  'summaries': ['Автор рассказывает о своем опыте работы в качестве заказчика в софтверной компании. Он работал с разными заказчиками, включая отечественных, зарубежных, международных корпораций и стартаперов-одиночек. Автор сталкивался с различными проблемами, такими как неадекватные требования, перекупщики и неадекватные заказчики. Он понял, что идеальный заказчик должен описывать задачи, которые приложение должно решать, и условия, в которых оно должно это делать. Автор стал идеальным заказчиком, но столкнулся с проблемами, так как он слишком хорошо ориентировался в требованиях и был конечным заказчиком. Автор понял, что идеальное проектирование должно быть разделено между заказчиком и разработчиком.'],\n",
       "  'mean': 0.604004,\n",
       "  'std': 0.0},\n",
       " {'idx': 33,\n",
       "  'id': 38,\n",
       "  'eval_scores': [0.663574],\n",
       "  'summaries': ['Появление криптовалют привело к активному развитию альтернативной системы расчетов. Финансовые транзакции между сторонами осуществляются напрямую, без посредников. Распространение новых денег влияет на развитие технологии блокчейна и искусственного интеллекта. Блокчейн используется для осуществления криптовалютных транзакций, представляя собой неразрывную цепь блоков. Популяризация криптовалют приводит к увеличению доли данного вида расчетов среди физических лиц и компаний. Нагрузка на сети возрастает, что ведет к повышению стоимости и времени переводов. Совершенствование технологии блокчейна и увеличение вместимости и скорости генерации отдельных блоков. Внедрение технологии Proof-of-Stake способствует оптимизации пула валидаторов и оптимизации процедуры консенсуса. Блокчейн и искусственный интеллект играют важную роль в метавселенных и цифровом искусстве. Развитие криптовалют ведет к совершенствованию ИИ и блокчейна, что является необходимым условием для выпуска уникальных NFT. Перспективы: криптовалюты будут становиться все более востребованными, а схожие решения создаются на уровне государств. Совокупная капитализация криптовалютного рынка составляет всего 327 млрд. долларов США, но имеет потенциал роста. Фундаментальная стоимость криптовалют обусловлена спросом и доверием участников расчетов, что делает систему прозрачной и честной.'],\n",
       "  'mean': 0.663574,\n",
       "  'std': 0.0},\n",
       " {'idx': 34,\n",
       "  'id': 39,\n",
       "  'eval_scores': [0.69873],\n",
       "  'summaries': ['На периферии технической индустрии много людей, ищущих \"серебряные пули\" для успеха. Эти люди могут похвастаться пассивным доходом от веб-бизнеса, но их мышление противоречит предпринимательству. Успех в карьере требует опыта и целенаправленной фокусировки на повышении квалификации. Уникальность стартапов - отсутствие ресурсов, что заставляет основателей быстро адаптироваться. Стартап - это \"тренажёр\" для профессионального роста и развития характера. Опыт и мастерство позволяют переходить от проекта к проекту, имея знания о решении проблем. Бережливый стартап - концепция предпринимательства для быстрого тестирования идей и выбора бизнес-модели. Гибкость и возможность быстрого масштабирования облака полезны для стартапов в условиях неопределенности.'],\n",
       "  'mean': 0.69873,\n",
       "  'std': 0.0},\n",
       " {'idx': 35,\n",
       "  'id': 40,\n",
       "  'eval_scores': [0.671875],\n",
       "  'summaries': ['Оптимизация разработки React-приложений с использованием Visual Studio Code и Google Chrome. Создание учебного приложения с помощью create-react-app. Установка расширения Debugger for Chrome для взаимодействия VS Code и Chrome. Настройка VS Code для подключения к Chrome и настройка отладчика. Использование точки останова для приостановки выполнения кода в определенном месте. Запуск сервера разработки и просмотр результатов отладки в браузере. Непрерывное тестирование с помощью jest, автоматически запускаемого при сохранении файлов. Экономия времени и удобство работы с VS Code и Chrome для отладки React-приложений.'],\n",
       "  'mean': 0.671875,\n",
       "  'std': 0.0},\n",
       " {'idx': 36,\n",
       "  'id': 41,\n",
       "  'eval_scores': [0.552734],\n",
       "  'summaries': [\"Настройка Reverse Proxy Apache с автоматической выдачей Let's Encrypt Решение: использовать Apache и Let's Encrypt Пример настройки для Debian GNU/Linux 8 (jessie) Установка необходимых модулей Apache Создание самоподписанного сертификата для HTTPS сайта Настройка VirtualHost для перенаправления HTTP на HTTPS Установка Let's Encrypt и настройка автоматической выдачи сертификатов Обновление certbot до последней версии для устранения ошибок Добавление скрипта автопродления сертификата для Let's Encrypt\"],\n",
       "  'mean': 0.552734,\n",
       "  'std': 0.0},\n",
       " {'idx': 37,\n",
       "  'id': 42,\n",
       "  'eval_scores': [0.593262],\n",
       "  'summaries': ['Хостинг телеграм-ботов и других скриптов на Python на Repl.it бесплатный и 24/7. Регистрация бота в телеграм BotFather и получение токена. Регистрация на Repl.it и создание нового проекта на Python. Написание кода бота и установка модуля pytelegrambotapi. Создание Flask-сервера для поддержания работоспособности скрипта. Запуск Flask-сервера в отдельном потоке и настройка службы мониторинга UpTimerRobot. Настройка UpTimerRobot для постоянного мониторинга и продления времени работы скрипта.'],\n",
       "  'mean': 0.593262,\n",
       "  'std': 0.0},\n",
       " {'idx': 38,\n",
       "  'id': 43,\n",
       "  'eval_scores': [0.580566],\n",
       "  'summaries': ['Автор статьи рассказывает о проекте Dagaz, который позволяет играть в настольные игры по переписке. Проект был создан Эдом ван Зоном, который ранее занимался поддержкой и развитием сайта Zillions. Эд ван Зон создал три десятка новых игр на движке Dagaz, используя MIT-лицензию. Одна из первых игр, Turnover, была выбрана для игры по сети. В игре Turnover используются сборные фигуры, которые могут создавать новые фигуры из составных частей. Проверка на шах и мат является сложной задачей, так как фигуры могут атаковать несколько замков одновременно. Для игры по сети требуется регистрация и отправка \"Challenge\" другим игрокам. В Dagaz также поддерживается режим игры вслепую против бота.'],\n",
       "  'mean': 0.580566,\n",
       "  'std': 0.0},\n",
       " {'idx': 39,\n",
       "  'id': 44,\n",
       "  'eval_scores': [0.403564],\n",
       "  'summaries': ['Пьер де Ферма предложил метод факторизации в 1643 году, который позволяет эффективно раскладывать целые числа на простые множители. Алгоритм шифрования и подписи RSA основан на высокой сложности факторизации. Уязвимые ключи RSA были обнаружены в принтерах Canon и Fujifilm, использующих криптографический модуль от Rambus. Метод факторизации Ферма позволяет определить значение A путем перебора и вычислить p и q. Вероятность того, что два простых числа p и q будут близки, ничтожно мала, но функции генерации ключей RSA могут реализовывать ошибочный алгоритм. Уязвимость ключа RSA возникает, если простые числа p и q находятся близко друг к другу. Для стандартных размеров ключей RSA в 2048 бит, разница p и q должна быть меньше 2^517. Уязвимые ключи могут быть случайно сгенерированы, но вероятность такого исхода составляет 1:2^500.'],\n",
       "  'mean': 0.403564,\n",
       "  'std': 0.0},\n",
       " {'idx': 40,\n",
       "  'id': 45,\n",
       "  'eval_scores': [0.538086],\n",
       "  'summaries': ['Статья посвящена особенностям работы Android TV box с мультикаст вещанием. Из 4-х купленных приставок с чипами RK3066, Allwinner А20, Amlogic 8726-MX, только одна корректно воспроизводит HD каналы в мультикаст режиме. IPTV приставка CA9-DA поддерживает аппаратное декодирование видео в MX-Player. Приставка CA9-DA имеет двухядерный процессор Amlogic 8726-MX, 1 ГБ оперативной памяти и 4ГБ пользовательской памяти. CA9-DA имеет Wi-Fi 802.11 b/g/n 2.4ГГц, Fast Ethernet и HDMI кабель в комплекте. Пульт управления CA9-DA простой, перемещение курсора осуществляется кнопками управления. Приставка CA9-DA имеет встроенный датчик ИК излучения и кнопку вкл/выкл. Антенна Wi-Fi встроенная, корпус изготовлен из глянцевого чёрного пластика и матового светло-серого пластика. В приставке предустановлен Android 4.2.2, изначально используется настройка разрешения экрана \"Авто\". Режим \"авто\" в приставке CA9-DA является критически важным для вещания, так как включает разрешение 720p. При переключении с канала на канал в приставке CA9-DA возникают проблемы, связанные с маршрутизацией интернет трафика. Приставка CA9-DA имеет сложности с Miracast, требующим сложного алгоритма для подключения устройств. Производитель приставки признал огрехи в работе Miracast и ведет переговоры с производителем чипа Amlogic 8726-MX для улучшения работы Miracast.'],\n",
       "  'mean': 0.538086,\n",
       "  'std': 0.0},\n",
       " {'idx': 41,\n",
       "  'id': 46,\n",
       "  'eval_scores': [0.546387],\n",
       "  'summaries': ['Команда Rightech начала вести блог о своем опыте в построении высоконагруженных IoT-систем. В 2011 году команда начала с разработки аппаратных разработок и реализации систем автоматизированных измерений и управления. Команда пришла к выводу о создании универсального фреймворка, который позволит сразу перейти к разработке интерфейса системы. Платформа Rightech IoT Cloud (RIC) была создана в 2016 году и стала домом для проекта. RIC включает в себя все необходимые программные элементы для создания приложений с использованием любых IoT-устройств. Платформа не требует написания кода, кроме относящегося к созданию Приложений. Весной 2021 года команда запустила регистрацию на публичное облако Rightech, где каждый пользователь может бесплатно подключить до 10 устройств. Команда Rightech планирует делиться своим опытом и актуальной информацией в сфере IoT.'],\n",
       "  'mean': 0.546387,\n",
       "  'std': 0.0},\n",
       " {'idx': 42,\n",
       "  'id': 47,\n",
       "  'eval_scores': [0.637695],\n",
       "  'summaries': ['В приложении Zoom для Windows обнаружены уязвимости и вредоносный код. Статический анализ показал наличие уязвимостей в библиотеке zData.dll, использующей устаревшую версию OpenSSL 1.0.2. Уязвимости могут привести к раскрытию конфиденциальной информации и выполнению произвольного кода на устройствах пользователей. В коде также обнаружены угрозы переполнения буфера и сохранение ключей реестра Windows. Использование устаревших и уязвимых библиотек, таких как libcurl и libssh2, может представлять угрозу для безопасности приложения. Шифрование с \"захардкоженными\" ключами также может быть уязвимым. Уязвимости в zWebService.dll и tp.dll могут привести к удаленному выполнению кода. Разработчикам рекомендуется изучить список уязвимостей и использовать последние версии библиотек для обеспечения безопасности конечных пользователей.'],\n",
       "  'mean': 0.637695,\n",
       "  'std': 0.0},\n",
       " {'idx': 43,\n",
       "  'id': 48,\n",
       "  'eval_scores': [0.558594],\n",
       "  'summaries': [\"Автор использует компьютер уже 10 лет и осознал, что интерфейс программ может быть разным, но эффект будет одинаковым. Автор достиг уровня знаний программирования, позволяющего воплощать свои идеи в полной мере. Идеи автора основаны на чувстве красоты и не основаны на расчете коэффициента юзабилити. Автор предлагает обзор идей реализации интерфейса на примере программы - редактора электронных словарей. Программа предоставляет первоначальную информацию пользователю в виде текста в текстовом поле и списка недавно открытых/редактированных словарей. Создание нового словаря происходит без диалога ошибки, предупреждающего о существовании словаря с таким же именем. Загрузка словарей в базу данных SQLite позволяет работать с файлами размером до 50 Мб. Управление загруженными словарями упрощено, иконки однозначны, а плюсик имеет описание в ToolTip popup. Настройки программы реализованы в виде однооконного диалога с подробным описанием каждого пункта. Добавление/редактирование/удаление слов в программе является основной частью, но интерфейс считается удачным. Горячие клавиши используются для облегчения работы пользователя, их значения указаны в ToolTip'е кнопки. Подсказки и статус-строка информируют пользователя о функциях программы незаметно и приятно. Программа компилируется в Windows, Linux и Mac, автор желает услышать комментарии о своих идеях.\"],\n",
       "  'mean': 0.558594,\n",
       "  'std': 0.0},\n",
       " {'idx': 44,\n",
       "  'id': 49,\n",
       "  'eval_scores': [0.629883],\n",
       "  'summaries': ['Визуализация статистических тестов с помощью пакета ggstatsplot. Автоматическое построение графиков и вывод результатов тестов. Доступны 4 варианта тестов: параметрический, непараметрический, робастный и байесовский. Возможность сравнения распределений, квантилей и средних значений. Визуализация уравнений регрессии с доверительными интервалами и статиками коэффициентов. Возможность вывода классических табличек с коэффициентами на график. Возможность построения группы графиков для разных групп данных. Пакет ggpmisc предоставляет дополнительные возможности визуализации уравнений регрессии и статистик.'],\n",
       "  'mean': 0.629883,\n",
       "  'std': 0.0},\n",
       " {'idx': 45,\n",
       "  'id': 50,\n",
       "  'eval_scores': [0.364014],\n",
       "  'summaries': ['Let\\'s Encrypt выдал 14 766 бесплатных сертификатов для фишинга PayPal. Бесплатные сертификаты стали популярными, что сделало Let\\'s Encrypt одним из крупнейших центров сертификации. Фишинг с использованием сертификатов Let\\'s Encrypt стал более распространенным явлением, чем предполагалось. Между 1 января 2016 года и 6 марта 2017 года Let\\'s Encrypt выдал сертификаты для 15 720 доменов со словом \"PayPal\" в названии. Большинство фишинговых сайтов быстро попадают в фильтры сервисов Safe Browsing и вскоре уходят в офлайн. Использование сертификатов SSL мошенниками было одним из главных беспокойств в связи с запуском бесплатного центра сертификации. По оценке специалистов, по нынешней тенденции Let\\'s Encrypt до конца года выдаст ещё 20 000'],\n",
       "  'mean': 0.364014,\n",
       "  'std': 0.0},\n",
       " {'idx': 46,\n",
       "  'id': 51,\n",
       "  'eval_scores': [0.688477],\n",
       "  'summaries': ['Альберт-Ласло Барабаши - физик, изучающий сетевые технологии и их влияние на жизнь человека. Он создал модель Барабаши-Альберт, которая описывает безмасштабные сети. Барабаши считает, что степенные законы описывают структуру многих сетей, включая Всемирную паутину и сети сотрудничества. Безмасштабные сети растут неравномерно, с некоторыми узлами, имеющими больше подключений, чем другие. Теория сетей также имеет применение в медицине и биологии, помогая понять, как болезни связаны через общие гены. Критика теории сетей без масштабирования связана с отсутствием статистической строгости и точным определением понятия \"сети без масштабирования\". Барабаши продолжает свои исследования и вдохновляет молодых ученых на открытия в области сетевой науки.'],\n",
       "  'mean': 0.688477,\n",
       "  'std': 0.0},\n",
       " {'idx': 47,\n",
       "  'id': 52,\n",
       "  'eval_scores': [0.54248],\n",
       "  'summaries': ['Fakeroot - инструмент для запуска программ в особом окружении, эмулирующем сессию суперпользователя. Права root могут потребоваться при сборке инсталлятора с помощью PackageMaker. Fakeroot-mini - модифицированная версия fakeroot-mini, не требующая инсталляции и распространяемая в виде динамической библиотеки. Fakeroot-mini хранит информацию в расширенных атрибутах файловой системы, что устраняет проблему независимых fakeroot сессий. Демонстрационный XCode проект собирает простое консольное приложение и инсталлятор. XCode раскладывает файлы по установочным путям и настраивает дополнительные параметры файлов в $(DSTROOT). Fakeroot позволяет успешно выполнить задачи, требующие прав суперпользователя, непривилегированному пользователю.'],\n",
       "  'mean': 0.54248,\n",
       "  'std': 0.0},\n",
       " {'idx': 48,\n",
       "  'id': 54,\n",
       "  'eval_scores': [0.321777],\n",
       "  'summaries': ['Автор создал самодельный кольцевой светодиодный осветитель для видео, фото и макросъемки. Идея создания прибора возникла давно, но работы над ним откладывались. Перед Новым годом автор столкнулся с необходимостью съемки в клубе, где его простой осветитель не работал. Автор составил технические требования к характеристикам прибора и нашел подходящий осветитель на DX. Технические характеристики: световой поток не менее 1500 Lm, угол рассеяния не менее 15-20 град., цветовая температура от 2700K до 6500K. Автор использовал светодиодную технику с большим опытом работы. Он собрал два кольца под светодиоды и установил диоды по 3W, получив световой поток 2600 Lm. Автор использовал алюминиевую форму для выпечки в качестве корпуса и термопасту для лучшего теплового контакта. Он использовал аккумулятор от мотоцикла и повышающий DC/DC преобразователь для питания. После более полугода эксплуатации, видео снимает отлично, а мелочевку снимает без теней.'],\n",
       "  'mean': 0.321777,\n",
       "  'std': 0.0},\n",
       " {'idx': 49,\n",
       "  'id': 55,\n",
       "  'eval_scores': [0.594727],\n",
       "  'summaries': ['Бизиборд - это игрушка, которая помогает детям развивать мелкую моторику и сенсорные навыки. В статье рассказывается о том, как волонтеры сделали трогательный инженерный бизиборд для московского психоневрологического интерната (ПНИ). Бизиборды были сделаны из различных материалов, таких как пластик, никелированная сталь, бронза, чугун и медь. Все детали были закручены и затянуты, чтобы создать контраст и обеспечить ребенку ощущение тяжести и грубую фактуру материала. Бизиборды были отправлены в другой ПНИ и интернат для умственно отсталых детей. Волонтеры были удивлены и обрадованы, когда получили стенд, и сказали, что они примут любую помощь. Автор статьи предлагает использовать свой опыт для создания других бизибордов и предлагает технологию \"фанера + тросы в пвх + термоклей\".'],\n",
       "  'mean': 0.594727,\n",
       "  'std': 0.0},\n",
       " {'idx': 50,\n",
       "  'id': 56,\n",
       "  'eval_scores': [0.687012],\n",
       "  'summaries': ['Веб-приложения остаются привлекательной мишенью для нарушителей. Безопасность веб-приложений зависит от качества кода, языка программирования и конфигураций веб-сервера. Менеджеры структурных подразделений не всегда учитывают безопасность веб-приложений при развитии бизнеса. Служба управления информационной безопасностью часто закрывает глаза на уязвимости в приобретаемых решениях. Пентесты показывают, что веб-приложения часто взламываются на потоке. Уязвимости нулевого дня могут быть использованы для проникновения на сайты. Для защиты от атак нулевого дня необходимо использовать стойкие пароли, доступ только для доверенных IP-адресов, минимизировать привилегии и использовать превентивные механизмы контроля.'],\n",
       "  'mean': 0.687012,\n",
       "  'std': 0.0},\n",
       " {'idx': 51,\n",
       "  'id': 58,\n",
       "  'eval_scores': [0.694824],\n",
       "  'summaries': ['Облачные технологии помогают медицинским учреждениям анализировать и хранить большие объемы данных. Медицинские учреждения внедряют электронные медицинские карты для хранения и защиты данных пациентов. Облачные технологии упрощают взаимодействие между фармацевтическими компаниями и другими организациями. Облачные аналитические системы позволяют проводить больше исследовательских проектов. Мобильные технологии и облако позволяют проводить диагностику пациентов дистанционно. Развитие облачных технологий и интернета вещей привело к появлению медицинских гаджетов. Облачные технологии упрощают жизнь пациентов при диагностике заболевания и получении результатов анализов. Веб-порталы для пациентов становятся нормой, и в будущем можно ожидать их массовую адаптацию.'],\n",
       "  'mean': 0.694824,\n",
       "  'std': 0.0},\n",
       " {'idx': 52,\n",
       "  'id': 59,\n",
       "  'eval_scores': [0.708984],\n",
       "  'summaries': ['BYOD (Bring Your Own Device) - использование личных устройств в рабочих целях. Преимущества: ускорение бизнес-процессов, доступ к актуальной информации, упрощение коммуникации. Риски: информационная безопасность, уязвимость личных устройств для атак. Личные ноутбуки: критичные данные, доступ к корпоративной сети, электронной почте. Смартфоны и планшеты: доступ к корпоративным данным, риск утери или кражи, уязвимость к атакам. Облачные хранилища: нерегулируемый доступ, слабая парольная политика, риск утечки или кражи данных. Решения по обеспечению безопасности: политики безопасности, VPN-соединения, контроль приложений, шифрование данных. Внедрение MDM (Mobile Device Management): централизованное управление устройствами, обновление политик безопасности, управление конфигурацией. MDM-решения эффективны при условии использования по назначению и правильной настройки, но уязвимы к физическим атакам.'],\n",
       "  'mean': 0.708984,\n",
       "  'std': 0.0},\n",
       " {'idx': 53,\n",
       "  'id': 60,\n",
       "  'eval_scores': [0.393311],\n",
       "  'summaries': ['ЦНИИмаш запатентовал лазерную систему опознавания \"свой-чужой\" для спутников. Система использует светоотражающее покрытие на корпусе и солнечных батареях спутников для идентификации. Считывание информации осуществляется лазерным лучом с наземной станции. Система позволит оперативно идентифицировать аппараты-нарушители на орбите и доказать виновность страны-хозяйки. В случае аварии какого-то спутника можно будет идентифицировать его даже по обломкам. ЦНИИмаш уже запатентовал новую систему опознавания. По статистике Бюро по орбитальному мусору NASA, на околоземной орбите находится более 21 000'],\n",
       "  'mean': 0.393311,\n",
       "  'std': 0.0},\n",
       " {'idx': 54,\n",
       "  'id': 61,\n",
       "  'eval_scores': [0.59668],\n",
       "  'summaries': ['Проблема с Software RAID на Ubuntu Server 11.04. Перезагрузка сервера привела к потере доступа к сервисам. Решение: восстановление Software RAID с помощью fsck и mdadm. Ошибки ФС на трех устройствах из пяти. Устройства прописанные в /etc/mdadm.conf не находились автоматически. Связь между устройствами найдена с помощью mdadm --detail /dev/md/xxx. Манипуляции с /etc/fstab для назначения новых устройств. Восстановление сервисов после перезагрузки. Проблема не решена на 100%, но есть список действий для восстановления.'],\n",
       "  'mean': 0.59668,\n",
       "  'std': 0.0},\n",
       " {'idx': 55,\n",
       "  'id': 62,\n",
       "  'eval_scores': [0.55957],\n",
       "  'summaries': ['Использование камеры Fish eye на Raspberry Pi 3 с ROS. Статья рассказывает о калибровке камеры и применении пакета find_object_2d для детекции объектов. Калибровка камеры с использованием camera_calibration и шаблона checkerboard. Процедура калибровки занимает много времени, запаситесь терпением. Результаты калибровки можно использовать в алгоритмах визуальной локализации и SLAM в ROS. Установка пакета find_object_2d на Raspberry Pi 3 для детекции объектов. Запуск ROS master и rqt_image_view для отображения потока с камеры и результата детекции объектов. Тренировка детектора на объектах и добавление объектов в базу обученных объектов. Детектор find_object_2d имеет ограничения по текстуре и углу наблюдения объекта. После завершения работы с детектором, find_object_2d предложит сохранить добавленные объекты на диск.'],\n",
       "  'mean': 0.55957,\n",
       "  'std': 0.0},\n",
       " {'idx': 56,\n",
       "  'id': 63,\n",
       "  'eval_scores': [0.617676],\n",
       "  'summaries': ['Случайные перестановки и разбиения изучаются в комбинаторике и теоретической информатике. Комбинаторные объекты, такие как графы, системы множеств и перестановки, изучаются задолго до появления компьютеров. Некоторые вещи из комбинаторики могут быть интересны сообществу, например, случайная перестановка чисел. Случайная перестановка чисел может быть построена разными способами, например, выбором случайно первого элемента и последующим выбором остальных. Независимость испытаний является ключевым моментом в построении случайных перестановок. Теория вероятностей может быть использована для доказательства формул, таких как формула крюков для деревьев. Вероятность того, что для каждого ребра число в верхней вершине ребра больше числа в его нижней вершине, равна . Модель случайной диаграммы Юнга является важной для комбинаторики и теоретической информатики. Метод кораблей используется для генерации случайных диаграмм Юнга с равными вероятностями.'],\n",
       "  'mean': 0.617676,\n",
       "  'std': 0.0},\n",
       " {'idx': 57,\n",
       "  'id': 64,\n",
       "  'eval_scores': [0.673828],\n",
       "  'summaries': ['В США прошла конференция New York Developer Week (NYDW) для разработчиков. На конференции выступали с докладом о высоконагруженной архитектуре фронтальных систем банка. Три причины выступить на NYDW: участие разработчиков из лидеров отрасли, небольшая конференция, возможность подтянуть английский и получить полезные контакты. Такси и квадрокоптер на троих: знакомство с Нью-Йорком началось с желтых такси, но поездка была неудобной из-за правил и цен. Основные темы конференции: машинное обучение, блокчейн, искусственный интеллект, web-разработка. Выступление на NYDW оправдало ожидания авторов, опыт пригодится для презентаций на других крупных конференциях.'],\n",
       "  'mean': 0.673828,\n",
       "  'std': 0.0},\n",
       " {'idx': 58,\n",
       "  'id': 65,\n",
       "  'eval_scores': [0.683594],\n",
       "  'summaries': ['Коммуникаторы на рынке вытесняют устаревшие устройства, включая GPS-навигаторы. Коммуникаторы имеют встроенные GPS-приемники, но навигаторы имеют более стабильное позиционирование. Навигаторы имеют большие экраны, аккумуляторы повышенной емкости и стандарт IPX7 для работы в сложных условиях. Коммуникаторы не всегда могут обеспечить точное позиционирование и могут зависать при навигации. Навигаторы становятся нишевым продуктом, обеспечивая задачи спорта, туризма, автонавигации и картографирования. Коммуникаторы идеальны для летних прогулок и экскурсий, но навигаторы становятся атрибутом профессионала.'],\n",
       "  'mean': 0.683594,\n",
       "  'std': 0.0},\n",
       " {'idx': 59,\n",
       "  'id': 66,\n",
       "  'eval_scores': [0.630371],\n",
       "  'summaries': ['Сборник \"Наука в Сбере-2021\" представляет передовые направления деятельности компании. В сборнике представлены статьи, связанные с ИИ, медициной, нейролингвистикой, робототехникой и другими научными достижениями. В разделе \"Научная жизнь\" собраны данные о статьях и докладах, которые будут опубликованы в 2022 году. Некоторые из представленных статей: выявление текстов, сгенерированных ИИ, методы компьютерной лингвистики, одновременная локализация и построение карты, игродром и видеоигры. Большинство работ (47%) опубликовано или принято к публикации в журналах высшей категории Q1 и представлено на конференциях уровня A/A\\\\*.'],\n",
       "  'mean': 0.630371,\n",
       "  'std': 0.0},\n",
       " {'idx': 60,\n",
       "  'id': 67,\n",
       "  'eval_scores': [0.511719],\n",
       "  'summaries': ['Знакомство с OCR библиотекой tessnet2 на языке C. Tessnet2 основана на Tesseract OCR движке, одном из лучших в 1995 году. Tessnet2 доступна с открытым исходным кодом и может читать бинарные, серые или цветные изображения. Для использования Tessnet2 необходимо загрузить библиотеку и добавить ссылку на tessnet2.dll в .NET проекте. Tessnet2 может читать TIFF изображения, но требует добавления Libtiff для сжатия изображений. Пример использования Tessnet2 для распознавания текста на картинке. Эксперимент с Tessnet2 для разгадывания каптч, где библиотека не смогла справиться с динамическим фоном и линиями. Разработан небольшой алгоритм для чистки картинки перед распознаванием текста. Tessnet2 может быть полезна для распознавания сложных изображений, но требует доработки для конкретных задач.'],\n",
       "  'mean': 0.511719,\n",
       "  'std': 0.0},\n",
       " {'idx': 61,\n",
       "  'id': 68,\n",
       "  'eval_scores': [0.314697],\n",
       "  'summaries': ['Оптимизация работы с MongoDB с устаревшим API или о чем молчит спецификация. Задача: перебрасывать большие объемы данных через MongoDB (до 200 тыс. записей за короткое время). Раунд 0: Write Concern = Acknowledged, простой и банальный способ, но не подходит для больших объемов. Раунд 1: Bulk write operations с Write Concern = Acknowledged, ускорение, но проблемы с асинхронностью. Раунд 2: Пробуем поменять Write Concern на Unacknowledged и использовать Bulk write operations. Раунд 3: Проблема с ограничением Bulk write операций на 500 записей, увеличение параметра maxBatchWriteSize в конфиге. Раунд 4: Поиск в интернете, использование getLastError для ожидания окончания записи всех объектов. Раунд 5: Использование getLastError вместо getMaxWriteBatchSize, ускорение работы с MongoDB.'],\n",
       "  'mean': 0.314697,\n",
       "  'std': 0.0},\n",
       " {'idx': 62,\n",
       "  'id': 69,\n",
       "  'eval_scores': [0.600586],\n",
       "  'summaries': ['Kubernetes 1.20 вышел с 11 фичами в stable, 15 в beta и 16 в alpha. Отказ от dockershim, возможно, приведет к меньшему приоритету исправления багов с docker. Починен баг с таймаутами для Probe типа exec, но может потребоваться проверка совместимости. API Priority and Fairness (APF) переведена в beta, но может вызвать проблемы с совместимостью. Node-role.kubernetes.io/master и taint node-role.kubernetes.io/master:NoSchedule объявлены deprecated. Сеть для сервисов ограничена размером, не более 20 бит для IPv4 и 108 для IPv6. Из API сервера убран беспарольный вход, восстановление доступа возможно через --insecure-port 8080. IPv4/IPv6 dual stack переписан, сервисы могут иметь оба адреса, но API изменен. Манифест Kind: Service теперь имеет три поля: ipFamilyPolicy, ipFamilies, clusterIPs. Команда для работы с сертификатами переименована в kubeadm certs. Анонсирована фича GracefulNodeShutdown, kubelet завершает поды при выключении узла. Команда kubectl debug повышена до беты, добавлены возможности запуска дополнительных контейнеров и замены команды запуска. Выпущен новый CronJob controller v2, возможно, с новыми багами.'],\n",
       "  'mean': 0.600586,\n",
       "  'std': 0.0},\n",
       " {'idx': 63,\n",
       "  'id': 70,\n",
       "  'eval_scores': [0.545898],\n",
       "  'summaries': ['Статья о переводе больших чисел из одной системы счисления в другую. Решение задачи криптографии требует работы с числами большой длины и разных систем счисления. Автор решает написать консольный конвертер для работы с числами любой длины и системы счисления. Реализация на языке C++, который легко перевести в другой язык. Конвертер имеет простой и понятный код, который можно использовать на любой платформе. Отсутствие интерфейса позволяет запускать код на любой платформе, включая Windows и Linux.'],\n",
       "  'mean': 0.545898,\n",
       "  'std': 0.0},\n",
       " {'idx': 64,\n",
       "  'id': 71,\n",
       "  'eval_scores': [0.303223],\n",
       "  'summaries': ['Статья посвящена созданию обратного прокси на языке Go для Grafana. Обратный прокси - это тип прокси-сервера, который перенаправляет запросы на один или несколько серверов и передает ответы обратно. Обратный прокси используется для балансировки нагрузки, A/B-тестирования, кэширования ресурсов, сжатия данных запроса, фильтрации трафика и авторизации. В статье рассматривается использование обратного прокси для авторизации в Grafana. Основная идея - переложить ответственность за авторизацию в Grafana на сервер обратного прокси. Grafana будет принимать любой запрос как авторизованный, если он содержит определенный заголовок. Перед подстановкой заголовка, необходимо убедиться в правах текущего пользователя на работу с Grafana. Цепочка вызовов \"Grafana-proxy, или Туда и обратно\" реализуется с помощью функции main и обработчика запросов.'],\n",
       "  'mean': 0.303223,\n",
       "  'std': 0.0},\n",
       " {'idx': 65,\n",
       "  'id': 72,\n",
       "  'eval_scores': [0.598145],\n",
       "  'summaries': ['Naming things is important in Computer Science, especially in code. Names should reflect the purpose and usage of the item. Use accurate names that are easy to understand without extra comments. Avoid meaningless names like $i, $j, $k, etc. Class names should be one or several nouns, without verbs. Properties should be named with nouns or adjectives, and methods should contain one or more verbs. Consistency is important, using the same name for a single concept. Follow code style conventions and use English for naming.'],\n",
       "  'mean': 0.598145,\n",
       "  'std': 0.0},\n",
       " {'idx': 66,\n",
       "  'id': 73,\n",
       "  'eval_scores': [0.40918],\n",
       "  'summaries': ['Бюджетное видеонаблюдение для \"чайников\" возможно с китайскими камерами стандарта ONVIF 2.0. ONVIF Device Manager позволяет настроить камеру и увидеть адреса и параметры потоков вещания. Примеры камер: MISECU IPC-DM05-1.0 и GADINAN. Аппаратная часть камеры определяется как hi3518e_50h10l_s39. Настройка IP адреса камеры и временной зоны в ONVIF Device Manager или General Device Manage. Создание пользователей с правами \"только для просмотра\". Веб-интерфейс камеры и программы CMS неудобны и требуют IE с ActiveX. Замена веб-интерфейса приложением XMeye на Android или iOS. Установка и настройка Zoneminder требует предварительной установки веб-сервера LAMP.'],\n",
       "  'mean': 0.40918,\n",
       "  'std': 0.0},\n",
       " {'idx': 67,\n",
       "  'id': 74,\n",
       "  'eval_scores': [0.669922],\n",
       "  'summaries': ['Селекторы псевдоклассов :nth-child() и :nth-last-child() позволяют выбирать элементы в DOM по их индексу. Микросинтаксис An+B предоставляет тонкий контроль над выбором элементов. Использование тестера :nth-child позволяет интерактивно увидеть, как логика An+B влияет на выделения. Возможность предварительной фильтрации с помощью синтаксиса of S в CSS Selectors Level 4. Примеры использования :nth-child() для выбора элементов по заданному списку селекторов. Зебра: пересмотренный вариант создания таблицы с полосками зебры с использованием :nth-child(). Динамическое изменение цвета фона в таблице с использованием :nth-child(An+B of S?) для исключения скрытых строк из логики An+B.'],\n",
       "  'mean': 0.669922,\n",
       "  'std': 0.0},\n",
       " {'idx': 68,\n",
       "  'id': 75,\n",
       "  'eval_scores': [0.641602],\n",
       "  'summaries': ['Зеркалирование GitHub-проектов на другие платформы разработки. Трудности при поиске подходящей платформы. GitLab: функция pull mirroring недоступна из-за ограничений в России. Gitee: ограниченная поддержка английской локализации. Radicle: слишком радикальные функциональные возможности. Codeberg: отключение функции зеркалирования из-за нехватки ресурсов. SourceHut: несовместимость с GitHub, платные услуги. Salsa: отключенная функция pull mirroring, отсутствие ответа от администрации. GitFlic: поддержка создания публичных репозиториев, но отсутствие CI и возможности копирования информации из GitHub. Ручной способ создания резервных копий обсуждений в GitHub-проектах. Использование gh2md для выгрузки содержимого GitHub issues и pull requests в Markdown-документ. Создание резервных копий проектов на Codeberg и использование внешнего трекера задач для синхронизации с GitHub.'],\n",
       "  'mean': 0.641602,\n",
       "  'std': 0.0},\n",
       " {'idx': 69,\n",
       "  'id': 77,\n",
       "  'eval_scores': [0.377686],\n",
       "  'summaries': ['Появление библиотеки RxJS открыло новые возможности в мире JS. Цель RxJS - достигать многого, используя небольшое количество кода. Redux популярен из-за своей простоты и использования чистых функций. Работая с Redux, первым делом мы создаем централизованное хранилище данных. Далее связываем компоненты с этим хранилищем и при желании обновляем или удаляем состояние. Любые изменения, внесенные в хранилище, будут отражены в компонентах, связанных с ним. Компонент, находящийся на энном уровне иерархической структуры, способен передавать данные компоненту самого высокого уровня. RxJS С появлением RxJS использовать библиотеки управления состояниями стало гораздо проще.'],\n",
       "  'mean': 0.377686,\n",
       "  'std': 0.0},\n",
       " {'idx': 70,\n",
       "  'id': 78,\n",
       "  'eval_scores': [0.506836],\n",
       "  'summaries': ['Рынок онлайн-рекламы считается недостаточно интересным для ИТ-специалистов и инвесторов. Однако, данная отрасль является довольно продвинутой с точки зрения технологий. Компании, оперирующие на этом рынке, создают по настоящему инновационные решения. Google и Admeld: рекламная биржа Google под названием Double Click Ad Exchange была отдельным SSP-провайдером. Rubicon Project: активно прибегал к покупке технологий и целых стартапов. Acxiom и LiveRamp: знаменитая глобальная корпорация, занимающаяся сбором и анализом данных для реализации более точно таргетированных рекламных кампаний корпоративных клиентов. Twitter и покупка Mopub: сервис микроблогов Twitter купил стартап в области мобильной рекламы MoPub. Amobee: компания Amobee, занимающаяся мобильной рекламой, объявила о двойном поглощении.'],\n",
       "  'mean': 0.506836,\n",
       "  'std': 0.0},\n",
       " {'idx': 71,\n",
       "  'id': 79,\n",
       "  'eval_scores': [0.752441],\n",
       "  'summaries': ['Суд Миннесоты обязал Google предоставить полиции логи поисковых запросов жителей города Эдина. Полицейские хотят получить информацию о поисковых запросах, связанных с определенным человеком. Запрос был подан не компании, а суду, и Google обязан предоставить информацию за пять недель. Правозащитники и специалисты по информационной безопасности обеспокоены возможным негативным влиянием на частную жизнь пользователей. Технологические компании не всегда охотно сотрудничают с полицией, считая частную информацию неприкосновенной. Шифрование данных на многих устройствах, включая телефоны, затрудняет работу полиции. Противостояние между технологическими компаниями и полицией может продолжиться, но решение проблемы пока неясно.'],\n",
       "  'mean': 0.752441,\n",
       "  'std': 0.0},\n",
       " {'idx': 72,\n",
       "  'id': 80,\n",
       "  'eval_scores': [0.588379],\n",
       "  'summaries': ['Cisco и Fortinet подтвердили наличие уязвимостей в своих продуктах, опубликованных хакерами The Shadow Brokers. Уязвимости были украдены у хакерской группы Equation Group, связанной с АНБ. Хакеры создали эксплоиты для уязвимостей в маршрутизаторах Cisco, Juniper и Fortinet. В продукции Cisco обнаружен 0-day, бюллетень безопасности для которого появился 17 августа. Хакеры атаковали ресурсы Equation Group и получили доступ к кибероружию. Хакеры выложили в свободный доступ небольшую часть архива, предлагая покупателям купить лучшие программы. Эксперты подтвердили функциональность кода, который может решать задачу манипуляции трафиком и перенаправления в момент прохода через маршрутизатор. Cisco и Fortinet выпустили бюллетени безопасности и рекомендации по защите от атак с использованием уязвимостей.'],\n",
       "  'mean': 0.588379,\n",
       "  'std': 0.0},\n",
       " {'idx': 73,\n",
       "  'id': 81,\n",
       "  'eval_scores': [0.589844],\n",
       "  'summaries': ['Статья рассказывает о создании Backend as a Service (BaaS) за полчаса. BaaS предоставляет все необходимое для бизнес/мобильных приложений и сайтов (front-end). Orienteer - конструктор бизнес-приложений с открытым исходным кодом. Orienteer использует OrientDB - NoSQL мульти-парадигмная база данных. Docker Cloud - свободная платформа для развертывания в облаке контейнеров с приложениями Docker. BaaS на основе Docker-Orienteer позволяет быстро создавать приложения и вносить изменения. Связка BaaS-Docker может быть полезна сервис-провайдерам, малым дизайн студиям и менеджерам in-house дата-систем. Настраиваем под себя: создаем модель данных, настраиваем интерфейс, добавляем скрипты и настраиваем права пользователей.'],\n",
       "  'mean': 0.589844,\n",
       "  'std': 0.0},\n",
       " {'idx': 74,\n",
       "  'id': 82,\n",
       "  'eval_scores': [0.708008],\n",
       "  'summaries': ['IBM представила два новых мейнфрейма LinuxOne, позиционируемых как самые защищенные и мощные Linux-системы в отрасли. Мейнфреймы адаптированы для гибридных облачных технологий и мобильных приложений. IBM открыла код мейнфреймов для сообщества разработчиков Open Source. LinuxONE Emperor предназначен для крупных корпораций, а Rockchopper - для среднего бизнеса. Обе системы могут работать с Apache Spark, MariaDB, PostgreSQL и Chef. Canonical и IBM объявили о запуске совместной инициативы по продвижению использования Ubuntu Linux на IBM z Systems. IBM предоставила новые открытые программные средства и отраслевые инструменты для работы с мейнфреймами. IBM запустила платформу LinuxONE Developer Cloud для разработчиков открытого программного обеспечения.'],\n",
       "  'mean': 0.708008,\n",
       "  'std': 0.0},\n",
       " {'idx': 75,\n",
       "  'id': 83,\n",
       "  'eval_scores': [0.526367],\n",
       "  'summaries': ['Автор статьи рассказывает о создании лабораторного источника постоянного напряжения из компьютерного блока питания. Для этого потребуется блок питания, клеммная колодка, светодиод, резистор, тумблер, термоусадка и стяжки. Автор проверяет работоспособность блока питания и отрезает штекеры, оставляя 10-15 см. Необходимо разделить все провода и идентифицировать их с помощью цветовой маркировки или схемы. Светодиод устанавливается в отверстие, заливается горячим клеем или супер-клеем. Выключатель блока питания устанавливается на место выхода проводов. Провода изолируются термоусадкой, а хвосты проводов аккуратно размещаются внутри. Блок питания позволяет получить разные напряжения, используя разность потенциалов.'],\n",
       "  'mean': 0.526367,\n",
       "  'std': 0.0},\n",
       " {'idx': 76,\n",
       "  'id': 84,\n",
       "  'eval_scores': [0.484863],\n",
       "  'summaries': ['Генерирование OfficeOpenXML-документов на сервере с помощью ASP.NET. Использование библиотеки для генерации docx или xlsx может быть долгим и сложным. Microsoft OpenXML SDK - простой и удобный инструмент для генерации кода по документу. Генерация кода для создания документа в Visual Studio с использованием OpenXMLSDKTool. Создание проекта в Visual Studio и добавление референсов для генерации кода. Генерация документа в формате docx с использованием созданного класса. Сравнение документов с помощью Open XML Productivity Tool для изменения шрифта и текста. Использование OpenXML SDK для генерации отчетов в web-приложениях - правильный выбор.'],\n",
       "  'mean': 0.484863,\n",
       "  'std': 0.0},\n",
       " {'idx': 77,\n",
       "  'id': 85,\n",
       "  'eval_scores': [0.591309],\n",
       "  'summaries': ['Разработчик разрабатывает онлайн-сервис таск-трекинга для небольших команд разработчиков. Цель - создать простой и наглядный сервис с современным графическим интерфейсом. Разработчик столкнулся с проблемами при разработке программы, меняя концепцию несколько раз. Он перебрал много разных программ, но они были слишком сложны и не понятны. Разработчик решил создать продукт, ориентированный на разработчиков, и начал с простого эскиза. Он работал программистом в малых и средних компаниях, а также фрилансером. Разработчик начал просматривать существующие аналоги и отказался от мульти-задач и категорий. Он добавил новые колонки, чтобы можно было прятать задачи определенного статуса. Разработчик продолжает развивать свой продукт и работает в команде, постоянно смотрит, насколько удобен его продукт.'],\n",
       "  'mean': 0.591309,\n",
       "  'std': 0.0},\n",
       " {'idx': 78,\n",
       "  'id': 86,\n",
       "  'eval_scores': [0.646484],\n",
       "  'summaries': ['Геймификация - дизайн-техника, основанная на использовании игровых механик вне игр. Грамотно реализованная геймификация улучшает пользовательское вовлечение и повышает конверсию. Геймификация ассоциируется с PBL (баллы, бейджи, рейтинги), но это не только про баллы, а про мотивацию. Геймификация может использоваться для создания четкого пути по продукту и ясных целей. Вызов и награда могут стать затягивающими игровыми элементами, мотивирующими пользователей. Групповой квест - техника, работающая сходно с мультиплеером в играх. Пошаговое обучение помогает учить пользователей пользоваться продуктом. Социальное влияние можно использовать для мотивации пользователей. Развитие и достижения основаны на прогрессе и мотивации пользователей.'],\n",
       "  'mean': 0.646484,\n",
       "  'std': 0.0},\n",
       " {'idx': 79,\n",
       "  'id': 87,\n",
       "  'eval_scores': [0.607422],\n",
       "  'summaries': ['Метаданные широко используются в .NET, особенно в ASP.NET MVC. Атрибуты применяются для генерации разметки и валидации данных на клиенте. При использовании ajax и динамической генерации html разметки, необходимо передавать метаданные модели (МДМ) на клиент. Прямой путь - сформировать json, включая данные и МДМ, но это неудобно и выглядит неприглядно. Передача МДМ в заголовках http более удобна и элегантна. Пример кода демонстрирует передачу МДМ в заголовках http и использование его на клиенте с помощью backbone. Данный подход можно легко применить для валидации модели на клиенте.'],\n",
       "  'mean': 0.607422,\n",
       "  'std': 0.0},\n",
       " {'idx': 80,\n",
       "  'id': 88,\n",
       "  'eval_scores': [0.641602],\n",
       "  'summaries': ['Comet и server push - подходы для доставки данных на стороне сервера без запросов от клиента. Приложения, требующие обновления данных, могут столкнуться с узким местом при использовании традиционных AJAX-запросов. Comet позволяет серверу определить наличие новых данных и доставить их клиенту без дополнительных запросов. Для реализации Comet-приложений на Java, можно использовать серверные фреймворки, такие как Jetty и Atmosphere. APE - открытый проект, написанный на С, предназначенный для реализации Comet-приложений. APE поддерживает GET/POST запросы и может быть интегрирован с Apache. APE имеет три основные части: epoll-driven HTTP server, APE JavaScript Framework и систему плагинов. APE использует механизм epoll и хеш-таблицу для максимальной производительности. APE может использоваться как прокси-сервер для обмена данными с внешними сервисами. Взаимодействие между клиентом и сервером происходит через специальный протокол. Проект APE молодой, но уже показывает свой потенциал для серьезных приложений с одновременной работой множества пользователей.'],\n",
       "  'mean': 0.641602,\n",
       "  'std': 0.0},\n",
       " {'idx': 81,\n",
       "  'id': 89,\n",
       "  'eval_scores': [0.434082],\n",
       "  'summaries': ['Установка Fedora 16 в XenServer может вызвать затруднения. Необходимо создать абстрактную HVM-машину из теплейта \"Other install media\". На первом экране установки нужно нажать Tab и добавить параметр nogpt в командную строку загрузки ядра. Раздел /boot должен быть отформатирован в ext2, чтобы pygrub мог его найти. После настройки системы, нужно изменить параметры запуска машины. В Fedora 16 grub переехал в каталог /boot/grub2, поэтому нужно создать линк для доступа к файлу настроек grub.cfg. В grub.cfg нужно заменить строку set default=\"${saved_entry}\" на set default=0. После изменения параметров машины, нужно убедиться, что все работает правильно. Установка XS Tools позволяет получить полноценную виртуальную машину с live snapshots, live migration и другими функциями.'],\n",
       "  'mean': 0.434082,\n",
       "  'std': 0.0},\n",
       " {'idx': 82,\n",
       "  'id': 90,\n",
       "  'eval_scores': [0.608398],\n",
       "  'summaries': ['Тестирование API сервисов и RSpec - важный этап разработки. Метод тестирования \"черного ящика\" (функциональное тестирование) помогает избежать случайных изменений поведения. Написание тестов на разных языках программирования позволяет легко \"выкинуть\" прототип и переписать функционал на других технологиях. Пример: написание http API сервиса с методами GET /ping и GET /movies, использующего сторонний сервис для получения списка фильмов. Для тестирования используется фреймворк RSpec и MockServer для эмуляции ответов от сторонних сервисов. Пример демонстрирует, что тесты не обязательно должны быть написаны на том же языке, что и тестируемый сервис. Автоматизация запуска и фикстур ответов является отдельной задачей, требующей дополнительного кода. Добавление приватного АПИ для изменения состояния БД или создания фикстур может помочь в тестировании состояния БД.'],\n",
       "  'mean': 0.608398,\n",
       "  'std': 0.0},\n",
       " {'idx': 83,\n",
       "  'id': 91,\n",
       "  'eval_scores': [0.208008],\n",
       "  'summaries': ['Автор переехал в другой регион Испании и не нашел стоящей барахолки. Переключился на онлайн-покупки для собственных нужд и развития скилла. Купил четыре фотоаппарата на точке сбора нерабочей электроники. Первый фотоаппарат: Panasonic DMC-LS2, полностью рабочая камера.'],\n",
       "  'mean': 0.208008,\n",
       "  'std': 0.0},\n",
       " {'idx': 84,\n",
       "  'id': 92,\n",
       "  'eval_scores': [0.521484],\n",
       "  'summaries': ['Эффект временной слепоты при входе в темное помещение связан с адаптацией глаз к темноте. Изменение площади зрачка регулирует количество света в 25 раз, основная роль в адаптации принадлежит клеткам сетчатки. Для имитации эффекта tonemapping используется механизм, который преобразует бесконечный интервал яркостей (HDR) в конечный интервал восприятия глаза/камеры/монитора (LDR). Для работы с HDR требуется соответствующий экранный буфер, поддерживающий значения больше единицы. Общая яркость сцены вычисляется как среднее геометрическое значение яркости всех пикселей. Для сжатия картинки используется геометрическое среднее, выбираются более яркие пиксели. Для ускоренного вычисления среднего геометрического используется формула. Результат tonemapping: можно получить интересный результат, уменьшая текстуру яркости не до одного пикселя, а останавливаясь за несколько шагов.'],\n",
       "  'mean': 0.521484,\n",
       "  'std': 0.0},\n",
       " {'idx': 85,\n",
       "  'id': 93,\n",
       "  'eval_scores': [0.67627],\n",
       "  'summaries': ['LEAN - полезный инструмент для поиска зон улучшений в процессах работы и командообразования. Команда ITSM столкнулась с проблемой координации входящих запросов в стек команды. Матрицы классификаций и маршрутизация были внедрены, но не решили проблему полностью. Команда обратилась к коллегам из отдела оптимизации для решения проблемы. Brainstorm и метод 5W помогли команде найти новые идеи для решения проблемы. Дата-инженеры и дата-архитекторы предложили решение на основе искусственного интеллекта и машинного обучения. Совместное наблюдение за процессами позволяет находить и устранять издержки, формировать понимание новых технологий и создавать ценность для компании.'],\n",
       "  'mean': 0.67627,\n",
       "  'std': 0.0},\n",
       " {'idx': 86,\n",
       "  'id': 94,\n",
       "  'eval_scores': [0.51709],\n",
       "  'summaries': ['Создание живых обоев на OpenGL ES 2.0 с упрощенным эффектом DOF для Android. Вдохновение от дизайна Deus Ex: Human Revolution и его элементов с осколками стекла. Создание простой сцены с плавно вращающимися осколками стекла и размытым задним фоном. Камера движется влево-вправо, осколки стекла также движутся. Реализован упрощенный эффект DOF с помощью размытия объектов вдали и размытия фона. Рендеринг прозрачных объектов с различными blending mode для создания бликов и отражений. Размытие реализовано с помощью ping-pong rendering с использованием шейдера. Nexus 10 может выдавать стабильные 50-40 fps при размытии текстуры 256х256. Проблема с некорректным рендерингом в текстуру на Nexus 10 решена с помощью workaround от ARM.'],\n",
       "  'mean': 0.51709,\n",
       "  'std': 0.0},\n",
       " {'idx': 87,\n",
       "  'id': 95,\n",
       "  'eval_scores': [0.346191],\n",
       "  'summaries': ['Sony Xperia XA Ultra - новая модель в линейке Xperia X с крупным экраном и усовершенствованной фронтальной камерой. Внешний вид напоминает увеличенный Xperia XA, но отличается фронтальной камерой и наличием отдельной светодиодной вспышки. Экран имеет диагональ 6 дюймов, разрешение Full HD и плотность пикселей 367 ppi. На задней крышке находится глазок основной камеры и вспышка, на нижнем торце - динамик, микрофон и разъем microUSB. Максимальная емкость накопителя составляет 256 ГБ, а на правой грани находится качелька регулировки громкости и кнопка спуска камеры. На передней панели находится большой глазок камеры, вспышка и датчик освещенности. Диод, который мигает при новых уведомлениях или зарядке устройства, прячется в левом углу и абсолютно неразличим. Цвета предлагаются три: графитовый черный, белый и \"золотой лайм\". Начинка состоит из восьмиядерного процессора MediaTek MT6755 и оперативной памяти 3 ГБ. Аккумулятор емкостью 2700 мАч обеспечивает до двух дней работы без подзарядки.'],\n",
       "  'mean': 0.346191,\n",
       "  'std': 0.0},\n",
       " {'idx': 88,\n",
       "  'id': 96,\n",
       "  'eval_scores': [0.443359],\n",
       "  'summaries': ['FullHD медиаплееры стали популярными устройствами для воспроизведения медиаконтента. Медиаплееры могут быть использованы для различных сервисов, таких как торренты, сетевое шарование и поддержка различных операционных систем. В статье рассматривается медиаплеер на базе чипсета Realtek RTD1186DD. Основные характеристики медиаплеера: процессор, память, flash, операционная система, HDD, файловые системы, LAN, WiFi. Управление медиаплеером по telnet было неудобно, поэтому автор ищет способ установить ssh. Система управления пакетами Ipkg позволяет устанавливать пакеты, собранные под архитектуру mipsel. Файловая система медиаплеера состоит из двух файловых систем: yaffs и squashfs. Автор устанавливает несколько утилит для работы с прошивкой и переносит /opt на файловую систему yaffs. Автор добавляет bash, svn и другие пакеты в медиаплеер для использования различных сервисов.'],\n",
       "  'mean': 0.443359,\n",
       "  'std': 0.0},\n",
       " {'idx': 89,\n",
       "  'id': 97,\n",
       "  'eval_scores': [0.688965],\n",
       "  'summaries': ['Пользователь столкнулся с запросами на определенную директорию с одного и того же ip, принадлежащего компании Elasticweb. Сайт был перенесен с хостинга задолго до обнаружения уязвимости. После блокировки ip, запросы продолжались более 12 часов. Техподдержка не хотела разбираться в ситуации и закрывать тикет. Выяснилось, что доступ к аккаунту можно получить по Email, указанному в учетной записи. Предыдущий разработчик сообщил, что учетная запись удалена по причине неуплаты хостинга. Техподдержка не видит проблемы в том, что доступ к аккаунту был получен через уязвимость. Автор статьи рекомендует менять все доступы, пароли и названия директорий при переносе сайта. Не доверять хостеру на слово и проверять уязвимости самостоятельно. Выбирать хостера с доступом к SSH на определенное время и ставить разные данные для разных учетных записей.'],\n",
       "  'mean': 0.688965,\n",
       "  'std': 0.0},\n",
       " {'idx': 90,\n",
       "  'id': 98,\n",
       "  'eval_scores': [0.610352],\n",
       "  'summaries': ['Биткойн столкнулся с проблемами, связанными с протоколом работы сети и защитой целостности базы. В статье обсуждаются альтернативные валюты и их решения проблем Биткойна. Блокчейн заинтересовался большой бизнес из-за своей децентрализованной природы и прозрачности. Транзакция в Биткойне объединяет множество предыдущих транзакций и осуществляет переводы на другие счета. Двойное расходование средств решается с помощью блоков и майнинга. Proof-of-Work защищает целостность базы, но атака 51% может привести к откату транзакций и блокированию чужих. Энергозатратность PoW является недостатком, Proof-of-Stake предлагает энергоэффективную альтернативу. Размер блока ограничен одним мегабайтом, что может привести к разветвлению сети. Разновидности Биткойна предлагают альтернативные модели, такие как Namecoin и Litecoin. Ethereum - платформа для децентрализованных приложений, использующая смарт-контракты.'],\n",
       "  'mean': 0.610352,\n",
       "  'std': 0.0},\n",
       " {'idx': 91,\n",
       "  'id': 99,\n",
       "  'eval_scores': [0.489014],\n",
       "  'summaries': ['LED China 2013 - крупнейшая выставка светодиодов и светодиодных экранов в мире. Выставка проводится в Китае, так как там сконцентрированы основные производители. Участники выставки представляют различные типы экранов, контрольное оборудование и системы коммутации. Производители экранов предлагают различные варианты изогнутых экранов, включая жесткие, фиксируемые и сетки. Изогнутые экраны могут быть использованы для создания экранов определенной формы или покрытия существующих периметров. Новинкой среди изогнутых экранов стали полностью гнущиеся модули с платами на резиновой основе. Производители сеток предлагают медиафасады на офисных зданиях, которые собираются в рулоны в дневное время и обеспечивают обзор в окнах в вечернее время. Спрос на статичные сетки будет расти, и в Китае уже много светодиодов на улицах.'],\n",
       "  'mean': 0.489014,\n",
       "  'std': 0.0},\n",
       " {'idx': 92,\n",
       "  'id': 100,\n",
       "  'eval_scores': [0.616211],\n",
       "  'summaries': ['Статья посвящена различиям в синтаксисе объявления переменных в языках C и Go. В C переменные описываются слева от имени, что упрощает чтение кода, но может привести к сложностям при использовании указателей на функции. Дэвид Андерсон предлагает использовать метод Clockwise/Spiral Rule для чтения определения переменных в C. В Go переменные описываются справа от имени, что делает их более читаемыми и понятными. Все языки, выросшие из C, такие как C++, C, Java, используют определение переменных справа от имени, что упрощает чтение кода. Недостатки определения переменных слева в C устраняются при использовании ООП.'],\n",
       "  'mean': 0.616211,\n",
       "  'std': 0.0},\n",
       " {'idx': 93,\n",
       "  'id': 101,\n",
       "  'eval_scores': [0.493652],\n",
       "  'summaries': ['25 февраля \"Индженьюити\" совершил свой второй полет в 2022 году и двадцатый за два года. Вертолет преодолел дистанцию в 391 метр за 130,3 секунды и приземлился на новом посадочном месте. Погодные условия повлияли на возможности вертолета, включая пылевые бури и изменение направления ветра. НАСА получило данные о погоде с метеостанции на борту марсохода и спутников на орбите. После пыльной бури плотность атмосферы на Марсе упала на 7%, что повлияло на работу солнечных батарей. Вертолет столкнулся с проблемами загрязнения и скопления пыли, которые были решены с помощью корректировки ПО. \"Индженьюити\" вернется на свое первое место взлета на Марсе под названием \"Поле братьев Райт\" вместе с марсоходом \"Персеверанс\". Вертолет был спроектирован на 30 суток работы на Марсе, но его возможности позволили продлить работу до 2022 года.'],\n",
       "  'mean': 0.493652,\n",
       "  'std': 0.0},\n",
       " {'idx': 94,\n",
       "  'id': 102,\n",
       "  'eval_scores': [0.628906],\n",
       "  'summaries': ['Локализация сайта с использованием PHP, Smarty и Gettext. Создание русской локализации для существующего сайта на английском. Использование плагина Smarty Gettext для создания языковых файлов. Окружение строк, которые должны быть переведены, тэгом {t}. Создание базы строк с помощью утилиты tsmarty2c. Подключение языковых файлов к сайту с помощью PHP. Проблемы, которые могут возникнуть при локализации сайта. Кэширование файла messages.mo в Windows и возможные проблемы с дробными числами. Локали ru_RU.utf8 и ru_RU могут отличаться на сервере. Утилита tsmarty2c не поддерживает склонение существительных с числами и множественное число. Использование Poedit для создания языковых файлов.'],\n",
       "  'mean': 0.628906,\n",
       "  'std': 0.0},\n",
       " {'idx': 95,\n",
       "  'id': 103,\n",
       "  'eval_scores': [0.644531],\n",
       "  'summaries': ['13 октября в Таганроге состоится конференция Azov Developers Meetup 2018. Регистрация на конференцию бесплатна, начало в 9:00 в конгресс-отеле \"Таганрог\". Доклады разделены на 2 потока, каждый участник сможет выбрать интересное для себя. Темы докладов включают soft skills, нематериальную мотивацию персонала, data science в life sciences, диагностику производительности .NET-приложений, контейнеризацию в микросервисной архитектуре, выбор способа работы с данными (ORM или SQL), UI/UX, тестирование в условиях ограниченных ресурсов, использование искусственного интеллекта в программах поддержки школьников и учителей. Помимо лекций, предусмотрены активности и призы для участников. Презентации и видеозаписи выступлений докладчиков будут доступны на сайте мероприятия.'],\n",
       "  'mean': 0.644531,\n",
       "  'std': 0.0},\n",
       " {'idx': 96,\n",
       "  'id': 104,\n",
       "  'eval_scores': [0.432129],\n",
       "  'summaries': ['Руководство FTX потратило \\\\$40 млн на курорты, еду и перелеты за последние 9 месяцев работы. Сэм Бэнкман-Фрид и его коллеги потратили более \\\\$40 млн на роскошные отели, дорогие авиаперелеты и рестораны. FTX Digital Markets арендовала роскошные апартаменты, проживала на курорте в отеле Albany и оплачивала размещение сотрудников на пятизвездочном курорте Rosewood. Около \\\\$7 млн сотрудники FTX Digital Markets потратили на еду, включая услуги кейтеринга из ресторанов, а также различные развлечения. Около \\\\$4 млн они заплатили за авиаперелеты, а более \\\\$500 тыс. компания выплатила за почтовые услуги. Руководство FTX предоставляло сотрудникам офиса криптобиржи на Багамских островах полный доступ к автопарку. В течение последних двух лет родители основателя Бэнкмана-Фрида и высшее руководство FTX приобрели не менее 19 объектов недвижимости на Багамах. 11 ноября 2022 года криптовалютная биржа FTX объявила об инициировании процедуры банкротства в связи с финансовой нестабильностью на платформе.'],\n",
       "  'mean': 0.432129,\n",
       "  'std': 0.0},\n",
       " {'idx': 97,\n",
       "  'id': 105,\n",
       "  'eval_scores': [0.642578],\n",
       "  'summaries': ['Анализ вредоносного ПО может быть статическим или динамическим. Статический анализ требует соблюдения правил безопасности, чтобы избежать заражения компьютера и потери данных. Три основных правила для безопасного статического анализа: работа в одном каталоге, использование непонятных ОС расширений и запрет запуска файлов в рабочем каталоге. Эксплуатация уязвимости в анализирующем ПО может вызвать запуск вредоносного кода. Рекомендуется следить за обновлениями утилит и использовать антивирусное ПО для дополнительной защиты. Антивирусное ПО может причинять боль, но обычно выполняет свою работу. При работе с вредоносными файлами следует указывать исключения для проверок рабочего каталога и добавлять используемые утилиты в доверенные. Существуют и другие опасности, такие как необратимое удаление артефактов работы с файлом или посторонний доступ к рабочему каталогу.'],\n",
       "  'mean': 0.642578,\n",
       "  'std': 0.0},\n",
       " {'idx': 98,\n",
       "  'id': 106,\n",
       "  'eval_scores': [0.662598],\n",
       "  'summaries': ['Собственное производство электроники имеет ряд преимуществ и недостатков. Контрактные производители специализируются на узкой области и обеспечивают технологичность и эффективность производства. Единый технологический партнер берет на себя большую часть задач по проекту, включая разработку, тестирование и послепродажное обслуживание. Выбор контрактных производителей и адаптация КД под их требования могут быть сложными задачами. Единый технологический партнер может быть более гибким и эффективным в решении этих задач. Передавая производство на аутсорсинг, компания-собственник может сосредоточиться на продвижении своего продукта и разработке новых функций.'],\n",
       "  'mean': 0.662598,\n",
       "  'std': 0.0},\n",
       " {'idx': 99,\n",
       "  'id': 107,\n",
       "  'eval_scores': [0.550781],\n",
       "  'summaries': ['Выпускник РГГУ получил официальный документ о высшем образовании, написанный с помощью ChatGPT. Диплом не нарушает правила написания, так как нет регулирования нейросетей. Аннулирования диплома не было, так как РГГУ и Минобрнауки не нарушили свои правила. В вузе обсуждалось увольнение преподавателей, которые проверяли диплом, но после заявлений госведомств поменяли мнение. Ректор РГГУ заявил, что нейросеть ChatGPT - это только помощник, а возможности чат-бота были преувеличены студентом. Минобрнауки решило не наказывать выпускника РГГУ, написавшего диплом с помощью нейросети ChatGPT. Глава ведомства считает, что нужны комбинированные задания для проверки знаний выпускников. В конце января студент РГГУ рассказал, как он за 23 часа написал диплом с помощью чат-бота ChatGPT.'],\n",
       "  'mean': 0.550781,\n",
       "  'std': 0.0}]"
      ]
     },
     "execution_count": 10,
     "metadata": {},
     "output_type": "execute_result"
    }
   ],
   "source": [
    "with open('test_results_yagpt_summarization.json', 'r') as fin:\n",
    "    results = []\n",
    "    lines = []\n",
    "    for line in fin.readlines():\n",
    "        lines.append(line)\n",
    "        if line.strip('\\n') == '}':\n",
    "            results.append(json.loads(''.join(lines)))\n",
    "            lines = []\n",
    "results"
   ]
  },
  {
   "cell_type": "code",
   "execution_count": 13,
   "metadata": {},
   "outputs": [
    {
     "data": {
      "text/plain": [
       "0.56334962"
      ]
     },
     "execution_count": 13,
     "metadata": {},
     "output_type": "execute_result"
    }
   ],
   "source": [
    "scores = [r['mean'] for r in results]\n",
    "np.mean(scores)"
   ]
  },
  {
   "cell_type": "code",
   "execution_count": 14,
   "metadata": {},
   "outputs": [
    {
     "data": {
      "text/plain": [
       "(array([ 1.,  0.,  0.,  2.,  2.,  2.,  3.,  4.,  3.,  1.,  7.,  5., 11.,\n",
       "         5., 18., 13., 10.,  9.,  3.,  1.]),\n",
       " array([0.208008  , 0.23522965, 0.2624513 , 0.28967295, 0.3168946 ,\n",
       "        0.34411625, 0.3713379 , 0.39855955, 0.4257812 , 0.45300285,\n",
       "        0.4802245 , 0.50744615, 0.5346678 , 0.56188945, 0.5891111 ,\n",
       "        0.61633275, 0.6435544 , 0.67077605, 0.6979977 , 0.72521935,\n",
       "        0.752441  ]),\n",
       " <BarContainer object of 20 artists>)"
      ]
     },
     "execution_count": 14,
     "metadata": {},
     "output_type": "execute_result"
    },
    {
     "data": {
      "image/png": "[encoded data removed]",
      "text/plain": [
       "<Figure size 640x480 with 1 Axes>"
      ]
     },
     "metadata": {},
     "output_type": "display_data"
    }
   ],
   "source": [
    "from matplotlib import pyplot as plt\n",
    "plt.hist(scores, bins=20)"
   ]
  },
  {
   "cell_type": "code",
   "execution_count": 16,
   "metadata": {},
   "outputs": [
    {
     "name": "stdout",
     "output_type": "stream",
     "text": [
      "83\n",
      "0.208008\n",
      "Автор переехал в другой регион Испании и не нашел стоящей барахолки. Переключился на онлайн-покупки для собственных нужд и развития скилла. Купил четыре фотоаппарата на точке сбора нерабочей электроники. Первый фотоаппарат: Panasonic DMC-LS2, полностью рабочая камера.\n"
     ]
    }
   ],
   "source": [
    "# get first item with mean score < 0.3\n",
    "for r in results:\n",
    "    if r['mean'] < 0.3:\n",
    "        print(r['idx'])\n",
    "        print(r['mean'])\n",
    "        print(r['summaries'][0])\n",
    "        break"
   ]
  },
  {
   "cell_type": "code",
   "execution_count": 25,
   "metadata": {},
   "outputs": [
    {
     "name": "stdout",
     "output_type": "stream",
     "text": [
      "Автор переехал в другой регион Испании и не нашел стоящей барахолки.\n",
      "- Переключился на онлайн-покупки для собственных нужд и развития скилла.\n",
      "- Купил четыре фотоаппарата на точке сбора нерабочей электроники.\n",
      "- Первый фотоаппарат: Panasonic DMC-LS2, полностью рабочая камера.\n"
     ]
    },
    {
     "data": {
      "text/plain": [
       "0.21228"
      ]
     },
     "execution_count": 25,
     "metadata": {},
     "output_type": "execute_result"
    }
   ],
   "source": [
    "# trnasform sentences to rows\n",
    "s = r['summaries'][0].replace('. ', '.\\n- ')\n",
    "print(s)\n",
    "eval_metric_model(test_articles[83][\"Text\"], s)"
   ]
  },
  {
   "cell_type": "markdown",
   "metadata": {},
   "source": [
    "## YaGPT-lite"
   ]
  },
  {
   "cell_type": "code",
   "execution_count": 28,
   "metadata": {},
   "outputs": [
    {
     "name": "stdout",
     "output_type": "stream",
     "text": [
      "1. Испанцы выбрасывают рабочие фотоаппараты, включая модели от Nikon и Panasonic.\n",
      "2. Некоторые фотоаппараты имеют проблемы с объективами или другими деталями.\n",
      "3. Испанцы могут продавать свои фотоаппараты на онлайн-барахолках или другим людям, которые могут их купить.\n",
      "4. Испанцы могут также отремонтировать или использовать свои фотоаппараты для других целей.\n",
      "5. Автор планирует рассказать о другой покупке в следующей статье.\n"
     ]
    }
   ],
   "source": [
    "import model_api\n",
    "s = model_api.yagpt_lite(test_articles[83][\"Text\"], iam_token, temperature=0.1)\n",
    "print(s)"
   ]
  },
  {
   "cell_type": "code",
   "execution_count": 32,
   "metadata": {},
   "outputs": [
    {
     "data": {
      "text/plain": [
       "0.540527"
      ]
     },
     "execution_count": 32,
     "metadata": {},
     "output_type": "execute_result"
    }
   ],
   "source": [
    "from post_process import post_process_yagpt_lite\n",
    "eval_metric_model(test_articles[83][\"Text\"], post_process_yagpt_lite(s))"
   ]
  }
 ],
 "metadata": {
  "kernelspec": {
   "display_name": "Python 3",
   "language": "python",
   "name": "python3"
  },
  "language_info": {
   "codemirror_mode": {
    "name": "ipython",
    "version": 3
   },
   "file_extension": ".py",
   "mimetype": "text/x-python",
   "name": "python",
   "nbconvert_exporter": "python",
   "pygments_lexer": "ipython3",
   "version": "3.8.10"
  }
 },
 "nbformat": 4,
 "nbformat_minor": 2
}
